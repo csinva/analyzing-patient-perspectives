{
 "cells": [
  {
   "cell_type": "code",
   "execution_count": 34,
   "metadata": {},
   "outputs": [
    {
     "name": "stdout",
     "output_type": "stream",
     "text": [
      "The autoreload extension is already loaded. To reload it, use:\n",
      "  %reload_ext autoreload\n"
     ]
    },
    {
     "name": "stderr",
     "output_type": "stream",
     "text": [
      "/home/chansingh/imodelsx/.venv/lib/python3.11/site-packages/openpyxl/worksheet/_reader.py:329: UserWarning: Unknown extension is not supported and will be removed\n",
      "  warn(msg)\n",
      "/home/chansingh/imodelsx/.venv/lib/python3.11/site-packages/openpyxl/worksheet/_reader.py:329: UserWarning: Unknown extension is not supported and will be removed\n",
      "  warn(msg)\n"
     ]
    },
    {
     "name": "stdout",
     "output_type": "stream",
     "text": [
      "success: 18\n",
      "fail: ['Cincinnati', 'Columbus']\n"
     ]
    },
    {
     "name": "stderr",
     "output_type": "stream",
     "text": [
      "/home/chansingh/imodelsx/.venv/lib/python3.11/site-packages/openpyxl/worksheet/_reader.py:329: UserWarning: Unknown extension is not supported and will be removed\n",
      "  warn(msg)\n"
     ]
    }
   ],
   "source": [
    "%load_ext autoreload\n",
    "%autoreload 2\n",
    "\n",
    "import pandas as pd\n",
    "import os\n",
    "import os.path\n",
    "from os.path import join\n",
    "import numpy as np\n",
    "import imodelsx\n",
    "from tqdm import tqdm\n",
    "from collections import defaultdict\n",
    "import matplotlib.pyplot as plt\n",
    "import seaborn as sns\n",
    "import data\n",
    "import imodelsx.viz\n",
    "import joblib\n",
    "import dvu\n",
    "files_dict = data.load_files_dict_single_site()"
   ]
  },
  {
   "cell_type": "markdown",
   "metadata": {},
   "source": [
    "### Filter data for single-site analysis"
   ]
  },
  {
   "cell_type": "code",
   "execution_count": 35,
   "metadata": {},
   "outputs": [],
   "source": [
    "# checkpoint = 'meta-llama/Llama-2-7b-hf'\n",
    "# checkpoint = 'gpt-4'  # gpt-35-turbo\n",
    "checkpoint = 'mistralai/Mistral-7B-v0.1'\n",
    "# site = 'Atlanta'\n",
    "# site = 'Columbus'\n",
    "site = 'WashingtonDC'\n",
    "df = files_dict[site]\n",
    "\n",
    "qs, responses_df, themes_df = data.split_single_site_df(df)"
   ]
  },
  {
   "cell_type": "code",
   "execution_count": 36,
   "metadata": {},
   "outputs": [],
   "source": [
    "question, responses, theme_dict = data.get_data_for_question_single_site(\n",
    "    question_num=8, qs=qs, responses_df=responses_df, themes_df=themes_df)"
   ]
  },
  {
   "cell_type": "code",
   "execution_count": 37,
   "metadata": {},
   "outputs": [
    {
     "data": {
      "application/vnd.jupyter.widget-view+json": {
       "model_id": "86e3fe8625424248afcad350fad47db4",
       "version_major": 2,
       "version_minor": 0
      },
      "text/plain": [
       "Loading checkpoint shards:   0%|          | 0/2 [00:00<?, ?it/s]"
      ]
     },
     "metadata": {},
     "output_type": "display_data"
    }
   ],
   "source": [
    "def numbered_list(classes):\n",
    "    # return '\\n'.join([f'Class {i+1}. {c}' for i, c in enumerate(classes)])\n",
    "    return '\\n'.join([f'{i+1}. {c}' for i, c in enumerate(classes)])\n",
    "\n",
    "\n",
    "classification_prompt = '''### You are given a question, response, and a numbered list of themes below.\n",
    "\n",
    "Question: {question}\n",
    "\n",
    "Response: {response}\n",
    "\n",
    "Themes:\n",
    "{classes_as_numbered_list}\n",
    "\n",
    "### Which of the themes does the response above belong to? Return the theme number.\n",
    "\n",
    "Answer:'''\n",
    "llm = imodelsx.llm.get_llm(checkpoint, repeat_delay=3)"
   ]
  },
  {
   "cell_type": "code",
   "execution_count": 38,
   "metadata": {},
   "outputs": [
    {
     "name": "stdout",
     "output_type": "stream",
     "text": [
      "### You are given a question, response, and a numbered list of themes below.\n",
      "\n",
      "Question: Would you want somebody else to decide if your child could be a research subject?  If so, who?\n",
      "\n",
      "Response: \"I feel like the paramedics would have the best intentions for my child. I would have to trust their medical background in their knowledge.\"\n",
      "\n",
      "Themes:\n",
      "1. Yes, trust paramedic medical judgement\n",
      "2. No\n",
      "3. Yes\n",
      "4. No; decision should be made by parent\n",
      "5. Yes, family member or close friend\n",
      "6. No; noobody should be asked to make that decision\n",
      "7. Answer not recorded\n",
      "\n",
      "### Which of the themes does the response above belong to? Return the theme number.\n",
      "\n",
      "Answer:\n"
     ]
    }
   ],
   "source": [
    "response = responses[1]\n",
    "if len(theme_dict) > 1:\n",
    "    assert not pd.isna(response)\n",
    "    prompt = classification_prompt.format(\n",
    "        question=question,\n",
    "        classes_as_numbered_list=numbered_list(theme_dict.keys()),\n",
    "        response=response,\n",
    "    )\n",
    "    print(prompt)\n",
    "# llm(prompt)"
   ]
  },
  {
   "cell_type": "code",
   "execution_count": 39,
   "metadata": {},
   "outputs": [
    {
     "name": "stderr",
     "output_type": "stream",
     "text": [
      "100%|██████████| 46/46 [00:00<00:00, 5372.67it/s]"
     ]
    },
    {
     "name": "stdout",
     "output_type": "stream",
     "text": [
      "num valid qs 8\n"
     ]
    },
    {
     "name": "stderr",
     "output_type": "stream",
     "text": [
      "\n"
     ]
    }
   ],
   "source": [
    "# screen valid questions\n",
    "valid_question_nums = []\n",
    "for question_num in tqdm(range(len(qs)), position=0):\n",
    "\n",
    "    question, responses, theme_dict = data.get_data_for_question_single_site(\n",
    "        question_num=question_num, qs=qs, responses_df=responses_df, themes_df=themes_df)\n",
    "\n",
    "    # print(theme_dict)\n",
    "    # valid only if there are multiple themes\n",
    "    if len(theme_dict) > 1:\n",
    "\n",
    "        # valid only if the number of theme values == number of non-null responses\n",
    "        if sum(theme_dict.values()) == sum(responses.notna()):\n",
    "            valid_question_nums.append(question_num)\n",
    "        # assert sum(theme_dict.values()) == sum(responses.notna(\n",
    "        # )), f'{sum(theme_dict.values())} != {sum(responses.notna())}, theme_dict: {theme_dict}, responses: {responses}\\nquestion {question_num}: {question}'\n",
    "print('num valid qs', len(valid_question_nums))"
   ]
  },
  {
   "cell_type": "markdown",
   "metadata": {},
   "source": [
    "### Run classification\n",
    "Note: this uses a lot of calls, num valid questions * num responses = 250"
   ]
  },
  {
   "cell_type": "code",
   "execution_count": 40,
   "metadata": {},
   "outputs": [
    {
     "name": "stderr",
     "output_type": "stream",
     "text": [
      "  0%|          | 0/8 [00:00<?, ?it/s]"
     ]
    },
    {
     "name": "stderr",
     "output_type": "stream",
     "text": [
      "100%|██████████| 11/11 [00:04<00:00,  2.38it/s]\n",
      "100%|██████████| 11/11 [00:04<00:00,  2.71it/s]\n",
      "100%|██████████| 11/11 [00:01<00:00,  7.06it/s]\n",
      "100%|██████████| 11/11 [00:01<00:00, 10.55it/s]\n",
      "100%|██████████| 11/11 [00:04<00:00,  2.34it/s]\n",
      "100%|██████████| 11/11 [00:00<00:00, 11.95it/s]\n",
      "100%|██████████| 11/11 [00:01<00:00,  9.90it/s]\n",
      "100%|██████████| 11/11 [00:06<00:00,  1.71it/s]\n",
      "100%|██████████| 8/8 [00:24<00:00,  3.06s/it]\n"
     ]
    }
   ],
   "source": [
    "classifications = defaultdict(list)\n",
    "for question_num in tqdm(valid_question_nums, position=0):\n",
    "\n",
    "    question, responses, theme_dict = data.get_data_for_question_single_site(\n",
    "        question_num=question_num, qs=qs, responses_df=responses_df, themes_df=themes_df)\n",
    "\n",
    "    for response_num in tqdm(range(len(responses)), position=1):\n",
    "        response = responses.values[response_num]\n",
    "\n",
    "        if not pd.isna(response):\n",
    "            prompt = classification_prompt.format(\n",
    "                question=question,\n",
    "                classes_as_numbered_list=numbered_list(theme_dict.keys()),\n",
    "                response=response,\n",
    "            )\n",
    "            ans = llm(prompt)\n",
    "            classifications[question_num].append(ans)"
   ]
  },
  {
   "cell_type": "markdown",
   "metadata": {},
   "source": [
    "### Compare acc"
   ]
  },
  {
   "cell_type": "code",
   "execution_count": 41,
   "metadata": {},
   "outputs": [
    {
     "data": {
      "text/plain": [
       "['/home/chansingh/pedidose-efic-analysis/processed/classification_confusion_matrix_WashingtonDC_Mistral-7B-v0.1.pkl']"
      ]
     },
     "execution_count": 41,
     "metadata": {},
     "output_type": "execute_result"
    }
   ],
   "source": [
    "def process_classifications(x):\n",
    "    # note, only works with <10 classes\n",
    "    for i in range(1, 10):\n",
    "        if x.startswith(str(i)):\n",
    "            return i\n",
    "    else:\n",
    "        return 1\n",
    "\n",
    "\n",
    "diffs = []\n",
    "class_count_pred = []\n",
    "class_count_gt = []\n",
    "for question_num in valid_question_nums:\n",
    "    question, responses, theme_dict = data.get_data_for_question_single_site(\n",
    "        question_num=question_num, qs=qs, responses_df=responses_df, themes_df=themes_df)\n",
    "\n",
    "    answer_counts = theme_dict.values()\n",
    "    class_counts = pd.Series(classifications[question_num]).apply(\n",
    "        process_classifications).value_counts()\n",
    "\n",
    "    # convert value_counts to dict\n",
    "    answer_counts_dict = {i + 1: round(v)\n",
    "                          for i, v in enumerate(theme_dict.values())}\n",
    "    class_counts_dict = {k: round(v) for k, v in class_counts.items()}\n",
    "    for i in answer_counts_dict.keys():\n",
    "        if i not in class_counts_dict:\n",
    "            class_counts_dict[i] = 0\n",
    "\n",
    "    # print(answer_counts_dict)\n",
    "    # print(class_counts_dict)\n",
    "    # print()\n",
    "\n",
    "    class_count_pred += list(class_counts_dict.values())\n",
    "    class_count_gt += list(answer_counts_dict.values())\n",
    "\n",
    "    diffs.append(np.sum(np.abs(np.array(list(answer_counts_dict.values())) -\n",
    "                               np.array(list(class_counts_dict.values())))))\n",
    "\n",
    "n = max(class_count_gt + class_count_pred)\n",
    "mat = np.zeros((n, n))\n",
    "for i, j in zip(class_count_pred, class_count_gt):\n",
    "    mat[i - 1, j - 1] += 1\n",
    "joblib.dump(mat, join(data.PROCESSED_DIR,\n",
    "            f'classification_confusion_matrix_{site}_{checkpoint.split(\"/\")[-1]}.pkl'))"
   ]
  },
  {
   "cell_type": "markdown",
   "metadata": {},
   "source": [
    "### Make aggregated heatmap"
   ]
  },
  {
   "cell_type": "code",
   "execution_count": 46,
   "metadata": {},
   "outputs": [
    {
     "data": {
      "image/png": "[encoded data removed]",
      "text/plain": [
       "<Figure size 1200x400 with 3 Axes>"
      ]
     },
     "metadata": {},
     "output_type": "display_data"
    }
   ],
   "source": [
    "sites = ['Atlanta', 'Columbus', 'WashingtonDC']\n",
    "checkpoints = ['gpt-4', 'gpt-35-turbo']\n",
    "vmax = 12\n",
    "\n",
    "# fig, axes = plt.subplots(1, len(checkpoints), figsize=(len(checkpoints) * 5, 5))\n",
    "mats = []\n",
    "for i, checkpoint in enumerate(checkpoints):\n",
    "    mat = None\n",
    "    for site in sites:\n",
    "        mat_new = joblib.load(join(data.PROCESSED_DIR,\n",
    "                                   f'classification_confusion_matrix_{site}_{checkpoint.split(\"/\")[-1]}.pkl'))\n",
    "\n",
    "        # sum mat_new with mat, make size bigger if needed\n",
    "        if mat is None:\n",
    "            mat = mat_new\n",
    "        else:\n",
    "            if mat.shape[0] < mat_new.shape[0]:\n",
    "                mat = np.pad(\n",
    "                    mat, ((0, mat_new.shape[0] - mat.shape[0]), (0, 0)))\n",
    "            if mat.shape[1] < mat_new.shape[1]:\n",
    "                mat = np.pad(\n",
    "                    mat, ((0, 0), (0, mat_new.shape[1] - mat.shape[1])))\n",
    "            mat += mat_new\n",
    "    mat[:, 0] = np.nan\n",
    "    mats.append(mat)\n",
    "\n",
    "\n",
    "fig, axes = plt.subplots(\n",
    "    1, len(checkpoints), figsize=(len(checkpoints) * 6, 4))\n",
    "for i, checkpoint in enumerate(checkpoints):\n",
    "    mat = mats[i]\n",
    "    ax = axes[i]\n",
    "    sns.heatmap(mat, annot=True, fmt='g', cmap='Blues',\n",
    "                vmax=vmax, ax=ax, cbar=False)\n",
    "    # plt.xticks(np.arange(mat.shape[1]) + 0.5, np.arange(np.max(mat.shape[1])) + 1)\n",
    "    dvu.outline_diagonal(mat.shape, roffset=0.5,\n",
    "                         coffset=0.5, skip_rows=[0], ax=ax)\n",
    "    ax.set_ylabel('Predicted class count')\n",
    "    ax.set_xlabel('Ground truth class count')\n",
    "    ax.set_title(imodelsx.viz.CHECKPOINTS_RENAME_DICT.get(\n",
    "        checkpoint, checkpoint))\n",
    "    # plt.savefig(\n",
    "    # f'../figs/classification_heatmap_{checkpoint.split(\"/\")[-1]}.pdf', bbox_inches='tight')\n",
    "    # plt.savefig(\n",
    "    # f'../figs/classification_heatmap_{checkpoint.split(\"/\")[-1]}.png', bbox_inches='tight', dpi=300)\n",
    "\n",
    "# add colorbar separately\n",
    "fig.subplots_adjust(right=0.8)\n",
    "cbar_ax = fig.add_axes([0.85, 0.15, 0.02, 0.7])\n",
    "fig.colorbar(axes[0].collections[0], cax=cbar_ax, label='Number of questions')\n",
    "\n",
    "plt.savefig('../figs/theme_classification.pdf', bbox_inches='tight')\n",
    "plt.savefig('../figs/theme_classification.png',\n",
    "            bbox_inches='tight', dpi=300)\n",
    "plt.show()"
   ]
  }
 ],
 "metadata": {
  "kernelspec": {
   "display_name": ".venv",
   "language": "python",
   "name": "python3"
  },
  "language_info": {
   "codemirror_mode": {
    "name": "ipython",
    "version": 3
   },
   "file_extension": ".py",
   "mimetype": "text/x-python",
   "name": "python",
   "nbconvert_exporter": "python",
   "pygments_lexer": "ipython3",
   "version": "3.11.7"
  }
 },
 "nbformat": 4,
 "nbformat_minor": 2
}
