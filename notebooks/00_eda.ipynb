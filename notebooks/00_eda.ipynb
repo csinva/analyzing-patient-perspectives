{
 "cells": [
  {
   "cell_type": "code",
   "execution_count": 17,
   "metadata": {},
   "outputs": [],
   "source": [
    "import pandas as pd\n",
    "import os\n",
    "import os.path\n",
    "from os.path import join\n",
    "DATA_DIR_INITIAL = '../data/raw/'\n",
    "DATA_DIR = join(DATA_DIR_INITIAL, '2nd Pass Analysis')"
   ]
  },
  {
   "cell_type": "markdown",
   "metadata": {},
   "source": [
    "### Analyze categorized tables + annotations"
   ]
  },
  {
   "cell_type": "code",
   "execution_count": 26,
   "metadata": {},
   "outputs": [
    {
     "name": "stdout",
     "output_type": "stream",
     "text": [
      "Kevin_AnnArbor_LosAngeles_SaltLakeCity\n"
     ]
    },
    {
     "ename": "TypeError",
     "evalue": "join() got an unexpected keyword argument 'index'",
     "output_type": "error",
     "traceback": [
      "\u001b[0;31m---------------------------------------------------------------------------\u001b[0m",
      "\u001b[0;31mTypeError\u001b[0m                                 Traceback (most recent call last)",
      "Cell \u001b[0;32mIn[26], line 10\u001b[0m\n\u001b[1;32m      8\u001b[0m files_dict[annotator] \u001b[38;5;241m=\u001b[39m interviews\n\u001b[1;32m      9\u001b[0m \u001b[38;5;28;01mfor\u001b[39;00m interview \u001b[38;5;129;01min\u001b[39;00m interviews:\n\u001b[0;32m---> 10\u001b[0m     df \u001b[38;5;241m=\u001b[39m pd\u001b[38;5;241m.\u001b[39mread_excel(\u001b[43mjoin\u001b[49m\u001b[43m(\u001b[49m\u001b[43mannotator_dir\u001b[49m\u001b[43m,\u001b[49m\u001b[43m \u001b[49m\u001b[43minterview\u001b[49m\u001b[43m,\u001b[49m\u001b[43m \u001b[49m\u001b[43mindex\u001b[49m\u001b[38;5;241;43m=\u001b[39;49m\u001b[38;5;28;43;01mFalse\u001b[39;49;00m\u001b[43m)\u001b[49m)\n\u001b[1;32m     11\u001b[0m     display(df\u001b[38;5;241m.\u001b[39mhead())\n",
      "\u001b[0;31mTypeError\u001b[0m: join() got an unexpected keyword argument 'index'"
     ]
    }
   ],
   "source": [
    "files_dict = {}\n",
    "annotators = [x for x in os.listdir(DATA_DIR) if not '.' in x]\n",
    "for annotator in annotators:\n",
    "    print(annotator)\n",
    "    annotator_dir = join(DATA_DIR, annotator)\n",
    "    interviews = [x for x in os.listdir(\n",
    "        annotator_dir) if x.endswith('.xlsx')]\n",
    "    files_dict[annotator] = interviews\n",
    "    for interview in interviews:\n",
    "        df = pd.read_excel(join(annotator_dir, interview))\n",
    "        display(df.head())"
   ]
  },
  {
   "cell_type": "code",
   "execution_count": 22,
   "metadata": {},
   "outputs": [
    {
     "data": {
      "text/plain": [
       "{'Kevin_AnnArbor_LosAngeles_SaltLakeCity': ['Los Angeles COMPLETE Interview Analysis.xlsx',\n",
       "  'Salt Lake City Interview Analysis.xlsx',\n",
       "  'Los Angeles INCOMPLETE Interview Analysis.xlsx',\n",
       "  'Ann Arbor Interview Analysis.xlsx'],\n",
       " 'Jonathan_Indianapolis_Milwaukee_Pittsburgh': ['Pittsburgh Interview Analysis.xlsx',\n",
       "  'Milwaukee Interview Analysis.xlsx',\n",
       "  'Indianapolis Interview Analysis.xlsx'],\n",
       " 'Katie_Dallas_Seattle_Tucson': ['Tucson Interview Analysis.xlsx',\n",
       "  'Dallas Interview Analysis.xlsx',\n",
       "  'Seattle Interview Analysis.xlsx'],\n",
       " 'Spencer_Denver_Sacramento': ['Denver Interview Analysis.xlsx',\n",
       "  'Sacramento Interview Analysis.xlsx'],\n",
       " 'Patty_Charlotte_Houston_Portland': ['Houston Interview Analysis.xlsx',\n",
       "  'Charlotte Interview Analysis.xlsx',\n",
       "  'Portland Interview Analysis.xlsx'],\n",
       " 'Corina_Buffalo_Cincinnati_SanFrancisco': ['Cincinnati Interview Analysis.xlsx',\n",
       "  'San Francisco Interview Analysis.xlsx',\n",
       "  'Buffalo Interview Analysis.xlsx'],\n",
       " 'Manish_Atlanta_Columbus_WashingtonDC': ['Columbus Interview Analysis.xlsx',\n",
       "  'WashingtonDC Interview Analysis.xlsx',\n",
       "  'Atlanta Interview Analysis.xlsx']}"
      ]
     },
     "execution_count": 22,
     "metadata": {},
     "output_type": "execute_result"
    }
   ],
   "source": [
    "files_dict"
   ]
  },
  {
   "cell_type": "markdown",
   "metadata": {},
   "source": [
    "### Original analyses, can ignore these -- just look at 2nd Pass Analysis"
   ]
  },
  {
   "cell_type": "code",
   "execution_count": 15,
   "metadata": {},
   "outputs": [
    {
     "data": {
      "text/plain": [
       "['Ann Arbor (MICH) C2-Manish',\n",
       " 'Atlanta (CHOA) C2-Corina',\n",
       " 'Buffalo, Manish, 18APR2022',\n",
       " 'Charlotte (AHCM) C2-Kammy',\n",
       " 'Cincinnati_Spencer',\n",
       " 'Columbus, Patty, 02May2022',\n",
       " 'Dallas_Corina_31May2022',\n",
       " 'Denver (DECH), Patty, TBD',\n",
       " 'Houston, Kevin, 29APR2022',\n",
       " 'Indianapolis, Corina, 29APR2022',\n",
       " 'LA, Katie, 01JUN2022',\n",
       " 'Milwaukee, Katie 05May2022',\n",
       " 'Pittsburgh (UPMC) C2-Kammy',\n",
       " 'Portland (OREG) C2- Kevin',\n",
       " 'Sacramento, Jonathan, 29APR2022',\n",
       " 'Salt_Lake_Jonathan_12May2022',\n",
       " 'San Francisco (UCSF) C2-Patty',\n",
       " 'Seattle_Spencer',\n",
       " 'Tucson (TUCS) C2-Manish',\n",
       " 'Washington DC (CNMC) C2-Katie']"
      ]
     },
     "execution_count": 15,
     "metadata": {},
     "output_type": "execute_result"
    }
   ],
   "source": [
    "sites = sorted([x for x in os.listdir(DATA_DIR_INITIAL) if not x.endswith(\n",
    "    '.xlsx') and not x in ['readme.md', '2nd Pass Analysis']])\n",
    "\n",
    "for site in sites:\n",
    "    interviews = [x for x in os.listdir(\n",
    "        join(DATA_DIR_INITIAL, site)) if x.endswith('.xlsx')]\n",
    "    if not len(interviews) == 1:\n",
    "        print(site, interviews)"
   ]
  },
  {
   "cell_type": "code",
   "execution_count": 16,
   "metadata": {},
   "outputs": [
    {
     "name": "stdout",
     "output_type": "stream",
     "text": [
      "Ann Arbor (MICH) C2-Manish []\n",
      "Charlotte (AHCM) C2-Kammy []\n",
      "Columbus, Patty, 02May2022 ['Interview Analysis_NWCH.xlsx', 'Interview Analysis Template.xlsx']\n",
      "Denver (DECH), Patty, TBD []\n",
      "Houston, Kevin, 29APR2022 ['Interview Analysis Houston.xlsx', 'Interview Analysis Template.xlsx']\n",
      "Indianapolis, Corina, 29APR2022 ['Interview Analysis Template Indianapolis Andriescu.xlsx', 'Interview Analysis Template.xlsx']\n",
      "Pittsburgh (UPMC) C2-Kammy ['UPMC Interview Analysis.xlsx', 'Interview Analysis Template.xlsx']\n",
      "Portland (OREG) C2- Kevin ['OHSU Interview Analysis.xlsx', 'Interview Analysis Template.xlsx']\n",
      "Sacramento, Jonathan, 29APR2022 ['Book2.xlsx', 'Sacramento, Jonathan Lall- Interview Analysis April 2022 Final.xlsx', 'Interview Analysis Template.xlsx']\n",
      "Salt_Lake_Jonathan_12May2022 ['Final Salt Lake City Jonathan Lall May 2022.xlsx', 'Salt Lake City Jonathan Lall May 2022.xlsx']\n",
      "Washington DC (CNMC) C2-Katie ['Analysis Example for Group.xlsx', 'Interview Analysis_AHCM-SF.xlsx', 'Interview Analysis Template.xlsx']\n"
     ]
    }
   ],
   "source": []
  },
  {
   "cell_type": "code",
   "execution_count": null,
   "metadata": {},
   "outputs": [],
   "source": []
  }
 ],
 "metadata": {
  "kernelspec": {
   "display_name": ".venv",
   "language": "python",
   "name": "python3"
  },
  "language_info": {
   "codemirror_mode": {
    "name": "ipython",
    "version": 3
   },
   "file_extension": ".py",
   "mimetype": "text/x-python",
   "name": "python",
   "nbconvert_exporter": "python",
   "pygments_lexer": "ipython3",
   "version": "3.11.7"
  }
 },
 "nbformat": 4,
 "nbformat_minor": 2
}
