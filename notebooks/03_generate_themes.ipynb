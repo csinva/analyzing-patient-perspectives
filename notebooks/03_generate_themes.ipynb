{
 "cells": [
  {
   "cell_type": "code",
   "execution_count": 27,
   "metadata": {},
   "outputs": [
    {
     "name": "stdout",
     "output_type": "stream",
     "text": [
      "The autoreload extension is already loaded. To reload it, use:\n",
      "  %reload_ext autoreload\n"
     ]
    },
    {
     "name": "stderr",
     "output_type": "stream",
     "text": [
      "/home/chansingh/imodelsx/.venv/lib/python3.11/site-packages/openpyxl/worksheet/_reader.py:329: UserWarning: Unknown extension is not supported and will be removed\n",
      "  warn(msg)\n",
      "/home/chansingh/imodelsx/.venv/lib/python3.11/site-packages/openpyxl/worksheet/_reader.py:329: UserWarning: Unknown extension is not supported and will be removed\n",
      "  warn(msg)\n"
     ]
    },
    {
     "name": "stdout",
     "output_type": "stream",
     "text": [
      "success: 18\n",
      "fail: ['Cincinnati', 'Columbus']\n"
     ]
    },
    {
     "name": "stderr",
     "output_type": "stream",
     "text": [
      "/home/chansingh/imodelsx/.venv/lib/python3.11/site-packages/openpyxl/worksheet/_reader.py:329: UserWarning: Unknown extension is not supported and will be removed\n",
      "  warn(msg)\n"
     ]
    }
   ],
   "source": [
    "%load_ext autoreload\n",
    "%autoreload 2\n",
    "\n",
    "import pandas as pd\n",
    "import os\n",
    "import os.path\n",
    "from os.path import join\n",
    "import numpy as np\n",
    "import imodelsx\n",
    "from tqdm import tqdm\n",
    "from collections import defaultdict\n",
    "import matplotlib.pyplot as plt\n",
    "import seaborn as sns\n",
    "import data\n",
    "import sys\n",
    "files_dict = data.load_files_dict_single_site()"
   ]
  },
  {
   "cell_type": "code",
   "execution_count": 28,
   "metadata": {},
   "outputs": [],
   "source": [
    "# site = 'Atlanta'\n",
    "# site = 'Columbus'\n",
    "site = 'WashingtonDC'\n",
    "df = files_dict[site]\n",
    "qs, responses_df, themes_df = data.split_single_site_df(df)"
   ]
  },
  {
   "cell_type": "code",
   "execution_count": 29,
   "metadata": {},
   "outputs": [],
   "source": [
    "def numbered_list(responses):\n",
    "    return '\\n'.join([f'{i+1}. {c.strip()}' for i, c in enumerate(responses)])\n",
    "\n",
    "\n",
    "themes_prompt = '''### You are given a question and a set of responses below.\n",
    "\n",
    "**Question**: {question}\n",
    "\n",
    "**Responses**:\n",
    "{response_list}\n",
    "\n",
    "### Group all responses into 2 or more non-overlapping themes.\n",
    "### Return a comma-separated list, where each element is a theme, followed by the numbers of the responses that fall into that theme in brackets.\n",
    "### **Example answer**: Theme 1: Negative responses [1, 2, 5], Theme 2: Positive responses [3, 4]\n",
    "\n",
    "**Answer**: Theme 1:'''\n",
    "\n",
    "llm = imodelsx.llm.get_llm('gpt-4', repeat_delay=3)"
   ]
  },
  {
   "cell_type": "markdown",
   "metadata": {},
   "source": [
    "**Run single example**"
   ]
  },
  {
   "cell_type": "code",
   "execution_count": 30,
   "metadata": {},
   "outputs": [],
   "source": [
    "# question, responses, theme_dict = data.get_data_for_question_single_site(\n",
    "#     question_num=2, qs=qs, responses_df=responses_df, themes_df=themes_df)\n",
    "\n",
    "# resps = responses[pd.notna(responses)]\n",
    "# prompt = themes_prompt.format(\n",
    "#     question=question,\n",
    "#     response_list=numbered_list(resps)\n",
    "# )\n",
    "# print(prompt)\n",
    "# llm(prompt)"
   ]
  },
  {
   "cell_type": "markdown",
   "metadata": {},
   "source": [
    "### Screen valid questions\n",
    "Valid questions have multiple unique responses."
   ]
  },
  {
   "cell_type": "code",
   "execution_count": 31,
   "metadata": {},
   "outputs": [
    {
     "name": "stderr",
     "output_type": "stream",
     "text": [
      "<>:3: DeprecationWarning: invalid escape sequence '\\w'\n",
      "<>:3: DeprecationWarning: invalid escape sequence '\\w'\n",
      "/tmp/ipykernel_1668665/1776519845.py:3: DeprecationWarning: invalid escape sequence '\\w'\n",
      "  resps_match = resps_match.str.replace('[^\\w\\s]', '')\n",
      "100%|██████████| 46/46 [00:00<00:00, 917.86it/s]"
     ]
    },
    {
     "name": "stdout",
     "output_type": "stream",
     "text": [
      "num valid qs 28 of 46\n"
     ]
    },
    {
     "name": "stderr",
     "output_type": "stream",
     "text": [
      "\n"
     ]
    }
   ],
   "source": [
    "def count_unique(resps):\n",
    "    resps_match = resps.apply(str.lower)\n",
    "    resps_match = resps_match.str.replace('[^\\w\\s]', '')\n",
    "    # print(set(resps_match))\n",
    "    return len(set(resps_match))\n",
    "\n",
    "\n",
    "# screen valid questions\n",
    "valid_question_nums = []\n",
    "for question_num in tqdm(range(len(qs)), position=0):\n",
    "\n",
    "    question, responses, theme_dict = data.get_data_for_question_single_site(\n",
    "        question_num=question_num, qs=qs, responses_df=responses_df, themes_df=themes_df)\n",
    "    resps = responses[pd.notna(responses)]\n",
    "\n",
    "    # valid only if there are multiple unique responses\n",
    "    if count_unique(resps) > 3:\n",
    "        # print(resps)\n",
    "        valid_question_nums.append(question_num)\n",
    "\n",
    "    # print(np.unique(resps))\n",
    "print('num valid qs', len(valid_question_nums), 'of', len(qs))"
   ]
  },
  {
   "cell_type": "markdown",
   "metadata": {},
   "source": [
    "### Run generating themes"
   ]
  },
  {
   "cell_type": "code",
   "execution_count": 32,
   "metadata": {},
   "outputs": [
    {
     "name": "stderr",
     "output_type": "stream",
     "text": [
      "  0%|          | 0/28 [00:00<?, ?it/s]"
     ]
    },
    {
     "name": "stdout",
     "output_type": "stream",
     "text": [
      "not cached\n"
     ]
    },
    {
     "name": "stderr",
     "output_type": "stream",
     "text": [
      "  4%|▎         | 1/28 [00:07<03:17,  7.31s/it]"
     ]
    },
    {
     "name": "stdout",
     "output_type": "stream",
     "text": [
      "not cached\n"
     ]
    },
    {
     "name": "stderr",
     "output_type": "stream",
     "text": [
      "  7%|▋         | 2/28 [00:15<03:24,  7.88s/it]"
     ]
    },
    {
     "name": "stdout",
     "output_type": "stream",
     "text": [
      "not cached\n"
     ]
    },
    {
     "name": "stderr",
     "output_type": "stream",
     "text": [
      " 11%|█         | 3/28 [00:22<03:02,  7.28s/it]"
     ]
    },
    {
     "name": "stdout",
     "output_type": "stream",
     "text": [
      "not cached\n"
     ]
    },
    {
     "name": "stderr",
     "output_type": "stream",
     "text": [
      " 14%|█▍        | 4/28 [00:31<03:12,  8.01s/it]"
     ]
    },
    {
     "name": "stdout",
     "output_type": "stream",
     "text": [
      "not cached\n"
     ]
    },
    {
     "name": "stderr",
     "output_type": "stream",
     "text": [
      " 18%|█▊        | 5/28 [00:38<02:58,  7.74s/it]"
     ]
    },
    {
     "name": "stdout",
     "output_type": "stream",
     "text": [
      "not cached\n"
     ]
    },
    {
     "name": "stderr",
     "output_type": "stream",
     "text": [
      " 21%|██▏       | 6/28 [00:43<02:26,  6.65s/it]"
     ]
    },
    {
     "name": "stdout",
     "output_type": "stream",
     "text": [
      "not cached\n"
     ]
    },
    {
     "name": "stderr",
     "output_type": "stream",
     "text": [
      " 25%|██▌       | 7/28 [00:49<02:19,  6.64s/it]"
     ]
    },
    {
     "name": "stdout",
     "output_type": "stream",
     "text": [
      "not cached\n"
     ]
    },
    {
     "name": "stderr",
     "output_type": "stream",
     "text": [
      " 29%|██▊       | 8/28 [00:55<02:10,  6.52s/it]"
     ]
    },
    {
     "name": "stdout",
     "output_type": "stream",
     "text": [
      "not cached\n"
     ]
    },
    {
     "name": "stderr",
     "output_type": "stream",
     "text": [
      " 32%|███▏      | 9/28 [01:00<01:54,  6.03s/it]"
     ]
    },
    {
     "name": "stdout",
     "output_type": "stream",
     "text": [
      "not cached\n"
     ]
    },
    {
     "name": "stderr",
     "output_type": "stream",
     "text": [
      " 36%|███▌      | 10/28 [01:06<01:44,  5.83s/it]"
     ]
    },
    {
     "name": "stdout",
     "output_type": "stream",
     "text": [
      "not cached\n"
     ]
    },
    {
     "name": "stderr",
     "output_type": "stream",
     "text": [
      " 39%|███▉      | 11/28 [01:10<01:30,  5.35s/it]"
     ]
    },
    {
     "name": "stdout",
     "output_type": "stream",
     "text": [
      "not cached\n"
     ]
    },
    {
     "name": "stderr",
     "output_type": "stream",
     "text": [
      " 43%|████▎     | 12/28 [01:18<01:37,  6.10s/it]"
     ]
    },
    {
     "name": "stdout",
     "output_type": "stream",
     "text": [
      "not cached\n"
     ]
    },
    {
     "name": "stderr",
     "output_type": "stream",
     "text": [
      " 46%|████▋     | 13/28 [01:25<01:34,  6.30s/it]"
     ]
    },
    {
     "name": "stdout",
     "output_type": "stream",
     "text": [
      "not cached\n"
     ]
    },
    {
     "name": "stderr",
     "output_type": "stream",
     "text": [
      " 50%|█████     | 14/28 [01:29<01:19,  5.68s/it]"
     ]
    },
    {
     "name": "stdout",
     "output_type": "stream",
     "text": [
      "not cached\n"
     ]
    },
    {
     "name": "stderr",
     "output_type": "stream",
     "text": [
      " 54%|█████▎    | 15/28 [01:40<01:35,  7.31s/it]"
     ]
    },
    {
     "name": "stdout",
     "output_type": "stream",
     "text": [
      "not cached\n"
     ]
    },
    {
     "name": "stderr",
     "output_type": "stream",
     "text": [
      " 57%|█████▋    | 16/28 [01:43<01:11,  5.99s/it]"
     ]
    },
    {
     "name": "stdout",
     "output_type": "stream",
     "text": [
      "not cached\n"
     ]
    },
    {
     "name": "stderr",
     "output_type": "stream",
     "text": [
      " 61%|██████    | 17/28 [01:52<01:17,  7.04s/it]"
     ]
    },
    {
     "name": "stdout",
     "output_type": "stream",
     "text": [
      "not cached\n"
     ]
    },
    {
     "name": "stderr",
     "output_type": "stream",
     "text": [
      " 64%|██████▍   | 18/28 [01:58<01:05,  6.51s/it]"
     ]
    },
    {
     "name": "stdout",
     "output_type": "stream",
     "text": [
      "not cached\n"
     ]
    },
    {
     "name": "stderr",
     "output_type": "stream",
     "text": [
      " 68%|██████▊   | 19/28 [02:06<01:02,  6.96s/it]"
     ]
    },
    {
     "name": "stdout",
     "output_type": "stream",
     "text": [
      "not cached\n"
     ]
    },
    {
     "name": "stderr",
     "output_type": "stream",
     "text": [
      " 71%|███████▏  | 20/28 [02:12<00:54,  6.82s/it]"
     ]
    },
    {
     "name": "stdout",
     "output_type": "stream",
     "text": [
      "not cached\n"
     ]
    },
    {
     "name": "stderr",
     "output_type": "stream",
     "text": [
      " 75%|███████▌  | 21/28 [02:17<00:44,  6.32s/it]"
     ]
    },
    {
     "name": "stdout",
     "output_type": "stream",
     "text": [
      "not cached\n"
     ]
    },
    {
     "name": "stderr",
     "output_type": "stream",
     "text": [
      " 79%|███████▊  | 22/28 [02:24<00:38,  6.42s/it]"
     ]
    },
    {
     "name": "stdout",
     "output_type": "stream",
     "text": [
      "not cached\n"
     ]
    },
    {
     "name": "stderr",
     "output_type": "stream",
     "text": [
      " 82%|████████▏ | 23/28 [02:29<00:30,  6.06s/it]"
     ]
    },
    {
     "name": "stdout",
     "output_type": "stream",
     "text": [
      "not cached\n"
     ]
    },
    {
     "name": "stderr",
     "output_type": "stream",
     "text": [
      " 86%|████████▌ | 24/28 [02:36<00:24,  6.23s/it]"
     ]
    },
    {
     "name": "stdout",
     "output_type": "stream",
     "text": [
      "not cached\n"
     ]
    },
    {
     "name": "stderr",
     "output_type": "stream",
     "text": [
      " 89%|████████▉ | 25/28 [02:42<00:18,  6.25s/it]"
     ]
    },
    {
     "name": "stdout",
     "output_type": "stream",
     "text": [
      "not cached\n"
     ]
    },
    {
     "name": "stderr",
     "output_type": "stream",
     "text": [
      " 93%|█████████▎| 26/28 [02:49<00:12,  6.42s/it]"
     ]
    },
    {
     "name": "stdout",
     "output_type": "stream",
     "text": [
      "not cached\n"
     ]
    },
    {
     "name": "stderr",
     "output_type": "stream",
     "text": [
      " 96%|█████████▋| 27/28 [02:57<00:06,  6.85s/it]"
     ]
    },
    {
     "name": "stdout",
     "output_type": "stream",
     "text": [
      "not cached\n"
     ]
    },
    {
     "name": "stderr",
     "output_type": "stream",
     "text": [
      "100%|██████████| 28/28 [03:02<00:00,  6.51s/it]\n"
     ]
    }
   ],
   "source": [
    "themes_generated = {}\n",
    "resps_list = {}\n",
    "for question_num in tqdm(valid_question_nums, position=0):\n",
    "\n",
    "    question, responses, theme_dict = data.get_data_for_question_single_site(\n",
    "        question_num=question_num, qs=qs, responses_df=responses_df, themes_df=themes_df)\n",
    "    resps = responses[pd.notna(responses)]\n",
    "\n",
    "    prompt = themes_prompt.format(\n",
    "        question=question,\n",
    "        response_list=numbered_list(resps)\n",
    "    )\n",
    "    ans = llm(prompt)\n",
    "    themes_generated[question_num] = ans\n",
    "    resps.index = np.arange(len(resps)) + 1\n",
    "    resps_list[question_num] = resps"
   ]
  },
  {
   "cell_type": "code",
   "execution_count": 33,
   "metadata": {},
   "outputs": [],
   "source": [
    "def dprint(*args, f):\n",
    "    # print(*args, file=sys.stdout)\n",
    "    print(*args, file=f)\n",
    "\n",
    "\n",
    "with open(f'../figs/themes/themes_generated_{site}.md', 'w') as f:\n",
    "    for question_num in valid_question_nums:\n",
    "        dprint('### Question:', qs[question_num], f=f)\n",
    "        dprint('\\nResponses', f=f)\n",
    "        for i in range(len(resps_list[question_num])):\n",
    "            dprint(f'{i+1}. {resps_list[question_num].iloc[i]}', f=f)\n",
    "        dprint('\\nThemes', f=f)\n",
    "        # print(themes_generated[question_num])\n",
    "        themes = [s.strip(' ,:1234567890')\n",
    "                  for s in themes_generated[question_num].split('Theme')]\n",
    "        for i, theme in enumerate(themes):\n",
    "            dprint(f'- Theme {i + 1}:', theme, f=f)\n",
    "        dprint('', f=f)"
   ]
  },
  {
   "cell_type": "code",
   "execution_count": null,
   "metadata": {},
   "outputs": [],
   "source": []
  }
 ],
 "metadata": {
  "kernelspec": {
   "display_name": ".venv",
   "language": "python",
   "name": "python3"
  },
  "language_info": {
   "codemirror_mode": {
    "name": "ipython",
    "version": 3
   },
   "file_extension": ".py",
   "mimetype": "text/x-python",
   "name": "python",
   "nbconvert_exporter": "python",
   "pygments_lexer": "ipython3",
   "version": "3.11.7"
  }
 },
 "nbformat": 4,
 "nbformat_minor": 2
}
