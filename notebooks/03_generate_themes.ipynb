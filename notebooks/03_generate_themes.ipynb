{
 "cells": [
  {
   "cell_type": "code",
   "execution_count": 127,
   "metadata": {},
   "outputs": [
    {
     "name": "stdout",
     "output_type": "stream",
     "text": [
      "The autoreload extension is already loaded. To reload it, use:\n",
      "  %reload_ext autoreload\n",
      "Kevin_AnnArbor_LosAngeles_SaltLakeCity\n",
      "Jonathan_Indianapolis_Milwaukee_Pittsburgh\n"
     ]
    },
    {
     "name": "stderr",
     "output_type": "stream",
     "text": [
      "/home/chansingh/imodelsx/.venv/lib/python3.11/site-packages/openpyxl/worksheet/_reader.py:329: UserWarning: Unknown extension is not supported and will be removed\n",
      "  warn(msg)\n"
     ]
    },
    {
     "name": "stdout",
     "output_type": "stream",
     "text": [
      "Katie_Dallas_Seattle_Tucson\n"
     ]
    },
    {
     "name": "stderr",
     "output_type": "stream",
     "text": [
      "/home/chansingh/imodelsx/.venv/lib/python3.11/site-packages/openpyxl/worksheet/_reader.py:329: UserWarning: Unknown extension is not supported and will be removed\n",
      "  warn(msg)\n"
     ]
    },
    {
     "name": "stdout",
     "output_type": "stream",
     "text": [
      "Spencer_Denver_Sacramento\n",
      "Patty_Charlotte_Houston_Portland\n",
      "Corina_Buffalo_Cincinnati_SanFrancisco\n",
      "Manish_Atlanta_Columbus_WashingtonDC\n",
      "success: 0\n",
      "fail: ['Los Angeles COMPLETE', 'Salt Lake City', 'Ann Arbor', 'Pittsburgh', 'Milwaukee', 'Indianapolis', 'Tucson', 'Dallas', 'Seattle', 'Denver', 'Sacramento', 'Houston', 'Charlotte', 'Portland', 'Cincinnati', 'San Francisco', 'Buffalo', 'Columbus', 'WashingtonDC', 'Atlanta']\n"
     ]
    },
    {
     "name": "stderr",
     "output_type": "stream",
     "text": [
      "/home/chansingh/imodelsx/.venv/lib/python3.11/site-packages/openpyxl/worksheet/_reader.py:329: UserWarning: Unknown extension is not supported and will be removed\n",
      "  warn(msg)\n"
     ]
    }
   ],
   "source": [
    "%load_ext autoreload\n",
    "%autoreload 2\n",
    "\n",
    "import pandas as pd\n",
    "import os\n",
    "import os.path\n",
    "from os.path import join\n",
    "import numpy as np\n",
    "import imodelsx\n",
    "from tqdm import tqdm\n",
    "from collections import defaultdict\n",
    "import matplotlib.pyplot as plt\n",
    "import seaborn as sns\n",
    "import data\n",
    "import sys\n",
    "files_dict = data.load_files_dict_single_site()"
   ]
  },
  {
   "cell_type": "markdown",
   "metadata": {},
   "source": [
    "### Filter data for single-site analysis"
   ]
  },
  {
   "cell_type": "code",
   "execution_count": null,
   "metadata": {},
   "outputs": [],
   "source": [
    "k = 'Atlanta'\n",
    "# k = 'Columbus'\n",
    "df = files_dict[k]\n",
    "theme_index = np.where(\n",
    "    np.array(list(map(str.lower, df.columns.values))) == 'theme')[0][0]\n",
    "col_vals = df.columns[4: theme_index]\n",
    "\n",
    "# separate into relevant pieces\n",
    "qs = df['Subcategory']\n",
    "responses_df = df[col_vals]\n",
    "themes_df = df[df.columns[theme_index:]]"
   ]
  },
  {
   "cell_type": "code",
   "execution_count": null,
   "metadata": {},
   "outputs": [],
   "source": [
    "def numbered_list(responses):\n",
    "    return '\\n'.join([f'{i+1}. {c.strip()}' for i, c in enumerate(responses)])\n",
    "\n",
    "\n",
    "themes_prompt = '''### You are given a question and a set of responses below.\n",
    "\n",
    "**Question**: {question}\n",
    "\n",
    "**Responses**:\n",
    "{response_list}\n",
    "\n",
    "### Group all responses into 2 or more non-overlapping themes.\n",
    "### Return a comma-separated list, where each element is a theme, followed by the numbers of the responses that fall into that theme in brackets.\n",
    "### **Example answer**: Theme 1: Negative responses [1, 2, 5], Theme 2: Positive responses [3, 4]\n",
    "\n",
    "**Answer**: Theme 1:'''\n",
    "\n",
    "llm = imodelsx.llm.get_llm('gpt-4', repeat_delay=3)"
   ]
  },
  {
   "cell_type": "markdown",
   "metadata": {},
   "source": [
    "**Run single example**"
   ]
  },
  {
   "cell_type": "code",
   "execution_count": null,
   "metadata": {},
   "outputs": [],
   "source": [
    "# question, responses, theme_dict = data.get_data_for_question_single_site(\n",
    "#     question_num=2, qs=qs, responses_df=responses_df, themes_df=themes_df)\n",
    "\n",
    "# resps = responses[pd.notna(responses)]\n",
    "# prompt = themes_prompt.format(\n",
    "#     question=question.strip(),\n",
    "#     response_list=numbered_list(resps)\n",
    "# )\n",
    "# print(prompt)\n",
    "# llm(prompt)"
   ]
  },
  {
   "cell_type": "markdown",
   "metadata": {},
   "source": [
    "### Screen valid questions\n",
    "Valid questions have multiple unique responses."
   ]
  },
  {
   "cell_type": "code",
   "execution_count": null,
   "metadata": {},
   "outputs": [],
   "source": [
    "def count_unique(resps):\n",
    "    resps_match = resps.apply(str.lower)\n",
    "    resps_match = resps_match.str.replace('[^\\w\\s]', '')\n",
    "    # print(set(resps_match))\n",
    "    return len(set(resps_match))\n",
    "\n",
    "\n",
    "# screen valid questions\n",
    "valid_question_nums = []\n",
    "for question_num in tqdm(range(len(qs)), position=0):\n",
    "\n",
    "    question, responses, theme_dict = data.get_data_for_question_single_site(\n",
    "        question_num=question_num, qs=qs, responses_df=responses_df, themes_df=themes_df)\n",
    "    resps = responses[pd.notna(responses)]\n",
    "\n",
    "    # valid only if there are multiple unique responses\n",
    "    if count_unique(resps) > 3:\n",
    "        valid_question_nums.append(question_num)\n",
    "\n",
    "    # print(np.unique(resps))\n",
    "print('num valid qs', len(valid_question_nums), 'of', len(qs))"
   ]
  },
  {
   "cell_type": "markdown",
   "metadata": {},
   "source": [
    "### Run generating themes"
   ]
  },
  {
   "cell_type": "code",
   "execution_count": null,
   "metadata": {},
   "outputs": [],
   "source": [
    "themes_generated = {}\n",
    "resps_list = {}\n",
    "for question_num in tqdm(valid_question_nums, position=0):\n",
    "\n",
    "    question, responses, theme_dict = data.get_data_for_question_single_site(\n",
    "        question_num=question_num, qs=qs, responses_df=responses_df, themes_df=themes_df)\n",
    "    resps = responses[pd.notna(responses)]\n",
    "\n",
    "    prompt = themes_prompt.format(\n",
    "        question=question.strip(),\n",
    "        response_list=numbered_list(resps)\n",
    "    )\n",
    "    ans = llm(prompt)\n",
    "    themes_generated[question_num] = ans\n",
    "    resps.index = np.arange(len(resps)) + 1\n",
    "    resps_list[question_num] = resps"
   ]
  },
  {
   "cell_type": "code",
   "execution_count": 139,
   "metadata": {},
   "outputs": [],
   "source": [
    "def dprint(*args, f):\n",
    "    # print(*args, file=sys.stdout)\n",
    "    print(*args, file=f)\n",
    "\n",
    "\n",
    "with open('../figs/themes_generated.md', 'w') as f:\n",
    "    for question_num in valid_question_nums:\n",
    "        dprint('### Question:', qs[question_num], f=f)\n",
    "        dprint('\\nResponses', f=f)\n",
    "        for i in range(len(resps_list[question_num])):\n",
    "            dprint(f'{i+1}. {resps_list[question_num].iloc[i]}', f=f)\n",
    "        dprint('\\nThemes', f=f)\n",
    "        # print(themes_generated[question_num])\n",
    "        themes = [s.strip(' ,:1234567890')\n",
    "                  for s in themes_generated[question_num].split('Theme')]\n",
    "        for i, theme in enumerate(themes):\n",
    "            dprint(f'- Theme {i + 1}:', theme, f=f)\n",
    "        dprint('', f=f)"
   ]
  },
  {
   "cell_type": "code",
   "execution_count": null,
   "metadata": {},
   "outputs": [],
   "source": [
    "resps_list"
   ]
  },
  {
   "cell_type": "code",
   "execution_count": null,
   "metadata": {},
   "outputs": [],
   "source": []
  }
 ],
 "metadata": {
  "kernelspec": {
   "display_name": ".venv",
   "language": "python",
   "name": "python3"
  },
  "language_info": {
   "codemirror_mode": {
    "name": "ipython",
    "version": 3
   },
   "file_extension": ".py",
   "mimetype": "text/x-python",
   "name": "python",
   "nbconvert_exporter": "python",
   "pygments_lexer": "ipython3",
   "version": "3.11.7"
  }
 },
 "nbformat": 4,
 "nbformat_minor": 2
}
