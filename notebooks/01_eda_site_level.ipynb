{
 "cells": [
  {
   "cell_type": "code",
   "execution_count": 1,
   "metadata": {},
   "outputs": [],
   "source": [
    "import pandas as pd\n",
    "import os\n",
    "import os.path\n",
    "from os.path import join\n",
    "import numpy as np\n",
    "DATA_DIR_INITIAL = '../data/raw/'\n",
    "DATA_DIR = join(DATA_DIR_INITIAL, '2nd Pass Analysis')"
   ]
  },
  {
   "cell_type": "markdown",
   "metadata": {},
   "source": [
    "### Analyze categorized tables + annotations"
   ]
  },
  {
   "cell_type": "code",
   "execution_count": 2,
   "metadata": {},
   "outputs": [
    {
     "name": "stdout",
     "output_type": "stream",
     "text": [
      "Kevin_AnnArbor_LosAngeles_SaltLakeCity\n",
      "Jonathan_Indianapolis_Milwaukee_Pittsburgh\n",
      "Katie_Dallas_Seattle_Tucson\n"
     ]
    },
    {
     "name": "stderr",
     "output_type": "stream",
     "text": [
      "/home/chansingh/imodelsx/.venv/lib/python3.11/site-packages/openpyxl/worksheet/_reader.py:329: UserWarning: Unknown extension is not supported and will be removed\n",
      "  warn(msg)\n",
      "/home/chansingh/imodelsx/.venv/lib/python3.11/site-packages/openpyxl/worksheet/_reader.py:329: UserWarning: Unknown extension is not supported and will be removed\n",
      "  warn(msg)\n"
     ]
    },
    {
     "name": "stdout",
     "output_type": "stream",
     "text": [
      "Spencer_Denver_Sacramento\n",
      "Patty_Charlotte_Houston_Portland\n",
      "Corina_Buffalo_Cincinnati_SanFrancisco\n",
      "Manish_Atlanta_Columbus_WashingtonDC\n",
      "success: 0\n",
      "fail: ['Los Angeles COMPLETE', 'Salt Lake City', 'Ann Arbor', 'Pittsburgh', 'Milwaukee', 'Indianapolis', 'Tucson', 'Dallas', 'Seattle', 'Denver', 'Sacramento', 'Houston', 'Charlotte', 'Portland', 'Cincinnati', 'San Francisco', 'Buffalo', 'Columbus', 'WashingtonDC', 'Atlanta']\n"
     ]
    },
    {
     "name": "stderr",
     "output_type": "stream",
     "text": [
      "/home/chansingh/imodelsx/.venv/lib/python3.11/site-packages/openpyxl/worksheet/_reader.py:329: UserWarning: Unknown extension is not supported and will be removed\n",
      "  warn(msg)\n"
     ]
    }
   ],
   "source": [
    "files_dict = {}\n",
    "files_succ = []\n",
    "files_fail = []\n",
    "annotators = [x for x in os.listdir(DATA_DIR) if not '.' in x]\n",
    "for annotator in annotators:\n",
    "    print(annotator)\n",
    "    annotator_dir = join(DATA_DIR, annotator)\n",
    "    interviews = [x for x in os.listdir(\n",
    "        annotator_dir) if x.endswith('.xlsx') and not 'INCOMPLETE' in x]\n",
    "    # files_dict[annotator] = interviews\n",
    "    for interview in interviews:\n",
    "        fname = join(annotator_dir, interview)\n",
    "        df = pd.read_excel(fname)\n",
    "        key = interview.replace('Interview Analysis.xlsx', '').strip()\n",
    "        files_dict[key] = df\n",
    "        COLS = ['Item #', 'Slide #', 'Domain', 'Subcategory']\n",
    "        for i in range(4):\n",
    "            assert df.columns[i] == COLS[i]\n",
    "        assert df.shape[0] == 46\n",
    "        # print(df.shape)\n",
    "        # assert df.columns[0] == 'Item #'\n",
    "        # assert df.columns[1] == 'Slide #'\n",
    "        # display(df.head())\n",
    "        # print(df.columns)\n",
    "        try:\n",
    "            # , interview + ' ' + df.columns\n",
    "            assert 'theme' in pd.Series(df.columns).apply(str.lower)\n",
    "            theme_index = np.where(\n",
    "                np.array(list(map(str.lower, df.columns.values))) == 'theme')[0][0]\n",
    "            for i in range(theme_index + 1, len(df.columns), 2):\n",
    "                assert '#' in df.columns[i]\n",
    "            assert df.shape[0] == 46\n",
    "            files_succ.append(key)\n",
    "        except:\n",
    "            files_fail.append(key)\n",
    "print('success:', len(files_succ))\n",
    "print('fail:', files_fail)"
   ]
  },
  {
   "cell_type": "code",
   "execution_count": 8,
   "metadata": {},
   "outputs": [],
   "source": [
    "# for k in sorted(files_succ):\n",
    "#     df = files_dict[k]\n",
    "k = 'Atlanta'\n",
    "df = files_dict[key]"
   ]
  },
  {
   "cell_type": "code",
   "execution_count": 13,
   "metadata": {},
   "outputs": [],
   "source": [
    "theme_index = np.where(\n",
    "    np.array(list(map(str.lower, df.columns.values))) == 'theme')[0][0]\n",
    "col_vals = df.columns[4: theme_index]\n",
    "\n",
    "# separate into relevant pieces\n",
    "qs = df['Subcategory']\n",
    "responses_df = df[col_vals]\n",
    "themes_df = df[df.columns[theme_index:]]"
   ]
  },
  {
   "cell_type": "code",
   "execution_count": 23,
   "metadata": {},
   "outputs": [],
   "source": [
    "def get_interview_set(question_num: int, qs, responses_df, themes_df):\n",
    "    question = qs.iloc[question_num]\n",
    "    responses = responses_df.iloc[question_num]\n",
    "    theme_row = themes_df.iloc[question_num].values\n",
    "    theme_dict = {theme_row[i]: theme_row[i + 1]\n",
    "                  for i in range(0, len(theme_row), 2)}\n",
    "\n",
    "    for k in list(theme_dict.keys()):\n",
    "        # remove nan/whitespace from theme_dict\n",
    "        if type(k) != str or not k.strip():\n",
    "            del theme_dict[k]\n",
    "    return question, responses, theme_dict\n",
    "\n",
    "\n",
    "# theme_row = get_interview_set(0, qs, responses, themes)\n",
    "question, responses, theme_dict = get_interview_set(\n",
    "    6, qs, responses_df, themes_df)"
   ]
  },
  {
   "cell_type": "code",
   "execution_count": 24,
   "metadata": {},
   "outputs": [
    {
     "data": {
      "text/plain": [
       "'In that moment, when a paramedic is getting ready to treat your child who is having a seizure, would you have been able to make an informed decision about whether or not to participate in a research study? '"
      ]
     },
     "execution_count": 24,
     "metadata": {},
     "output_type": "execute_result"
    }
   ],
   "source": [
    "question"
   ]
  },
  {
   "cell_type": "code",
   "execution_count": 25,
   "metadata": {},
   "outputs": [
    {
     "data": {
      "text/plain": [
       "array(['Yes, I just want him treated', 'I would want them to just do it',\n",
       "       'Yes', 'Yes', 'Yes', \"It wouldn't be the right time to ask\", 'Yes',\n",
       "       'No', 'No', 'Yes', nan], dtype=object)"
      ]
     },
     "execution_count": 25,
     "metadata": {},
     "output_type": "execute_result"
    }
   ],
   "source": [
    "responses.values"
   ]
  },
  {
   "cell_type": "code",
   "execution_count": 26,
   "metadata": {},
   "outputs": [
    {
     "data": {
      "text/plain": [
       "{'Yes': 7, 'No': 2, \"Wouldn't be the right time to ask\": 1}"
      ]
     },
     "execution_count": 26,
     "metadata": {},
     "output_type": "execute_result"
    }
   ],
   "source": [
    "theme_dict"
   ]
  },
  {
   "cell_type": "markdown",
   "metadata": {},
   "source": [
    "### Analyze responses"
   ]
  },
  {
   "cell_type": "code",
   "execution_count": 27,
   "metadata": {},
   "outputs": [],
   "source": [
    "import guidance"
   ]
  },
  {
   "cell_type": "code",
   "execution_count": null,
   "metadata": {},
   "outputs": [],
   "source": []
  }
 ],
 "metadata": {
  "kernelspec": {
   "display_name": ".venv",
   "language": "python",
   "name": "python3"
  },
  "language_info": {
   "codemirror_mode": {
    "name": "ipython",
    "version": 3
   },
   "file_extension": ".py",
   "mimetype": "text/x-python",
   "name": "python",
   "nbconvert_exporter": "python",
   "pygments_lexer": "ipython3",
   "version": "3.11.7"
  }
 },
 "nbformat": 4,
 "nbformat_minor": 2
}
