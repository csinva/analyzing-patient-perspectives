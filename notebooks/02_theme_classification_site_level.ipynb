{
 "cells": [
  {
   "cell_type": "code",
   "execution_count": 26,
   "metadata": {},
   "outputs": [
    {
     "name": "stdout",
     "output_type": "stream",
     "text": [
      "The autoreload extension is already loaded. To reload it, use:\n",
      "  %reload_ext autoreload\n",
      "Kevin_AnnArbor_LosAngeles_SaltLakeCity\n",
      "Jonathan_Indianapolis_Milwaukee_Pittsburgh\n"
     ]
    },
    {
     "name": "stderr",
     "output_type": "stream",
     "text": [
      "/home/chansingh/imodelsx/.venv/lib/python3.11/site-packages/openpyxl/worksheet/_reader.py:329: UserWarning: Unknown extension is not supported and will be removed\n",
      "  warn(msg)\n"
     ]
    },
    {
     "name": "stdout",
     "output_type": "stream",
     "text": [
      "Katie_Dallas_Seattle_Tucson\n"
     ]
    },
    {
     "name": "stderr",
     "output_type": "stream",
     "text": [
      "/home/chansingh/imodelsx/.venv/lib/python3.11/site-packages/openpyxl/worksheet/_reader.py:329: UserWarning: Unknown extension is not supported and will be removed\n",
      "  warn(msg)\n"
     ]
    },
    {
     "name": "stdout",
     "output_type": "stream",
     "text": [
      "Spencer_Denver_Sacramento\n",
      "Patty_Charlotte_Houston_Portland\n",
      "Corina_Buffalo_Cincinnati_SanFrancisco\n",
      "Manish_Atlanta_Columbus_WashingtonDC\n",
      "success: 0\n",
      "fail: ['Los Angeles COMPLETE', 'Salt Lake City', 'Ann Arbor', 'Pittsburgh', 'Milwaukee', 'Indianapolis', 'Tucson', 'Dallas', 'Seattle', 'Denver', 'Sacramento', 'Houston', 'Charlotte', 'Portland', 'Cincinnati', 'San Francisco', 'Buffalo', 'Columbus', 'WashingtonDC', 'Atlanta']\n"
     ]
    },
    {
     "name": "stderr",
     "output_type": "stream",
     "text": [
      "/home/chansingh/imodelsx/.venv/lib/python3.11/site-packages/openpyxl/worksheet/_reader.py:329: UserWarning: Unknown extension is not supported and will be removed\n",
      "  warn(msg)\n"
     ]
    }
   ],
   "source": [
    "%load_ext autoreload\n",
    "%autoreload 2\n",
    "\n",
    "import pandas as pd\n",
    "import os\n",
    "import os.path\n",
    "from os.path import join\n",
    "import numpy as np\n",
    "import imodelsx\n",
    "from tqdm import tqdm\n",
    "from collections import defaultdict\n",
    "import matplotlib.pyplot as plt\n",
    "import seaborn as sns\n",
    "import data\n",
    "files_dict = data.load_files_dict_single_site()"
   ]
  },
  {
   "cell_type": "markdown",
   "metadata": {},
   "source": [
    "### Filter data for single-site analysis"
   ]
  },
  {
   "cell_type": "code",
   "execution_count": 32,
   "metadata": {},
   "outputs": [],
   "source": [
    "k = 'Atlanta'\n",
    "# k = 'Columbus'\n",
    "df = files_dict[k]\n",
    "theme_index = np.where(\n",
    "    np.array(list(map(str.lower, df.columns.values))) == 'theme')[0][0]\n",
    "col_vals = df.columns[4: theme_index]\n",
    "\n",
    "# separate into relevant pieces\n",
    "qs = df['Subcategory']\n",
    "responses_df = df[col_vals]\n",
    "themes_df = df[df.columns[theme_index:]]"
   ]
  },
  {
   "cell_type": "code",
   "execution_count": 33,
   "metadata": {},
   "outputs": [],
   "source": [
    "question, responses, theme_dict = data.get_data_for_question_single_site(\n",
    "    question_num=0, qs=qs, responses_df=responses_df, themes_df=themes_df)"
   ]
  },
  {
   "cell_type": "code",
   "execution_count": 78,
   "metadata": {},
   "outputs": [],
   "source": [
    "def numbered_list(classes):\n",
    "    # return '\\n'.join([f'Class {i+1}. {c}' for i, c in enumerate(classes)])\n",
    "    return '\\n'.join([f'{i+1}. {c}' for i, c in enumerate(classes)])\n",
    "\n",
    "\n",
    "classification_prompt = '''### You are given a question, response, and a numbered list of themes below.\n",
    "\n",
    "Question: {question}\n",
    "\n",
    "Response: {response}\n",
    "\n",
    "Themes:\n",
    "{classes_as_numbered_list}\n",
    "\n",
    "### Which of the themes does the response above belong to? Return the theme number.\n",
    "\n",
    "Answer:'''\n",
    "\n",
    "llm = imodelsx.llm.get_llm('gpt-4', repeat_delay=3)"
   ]
  },
  {
   "cell_type": "code",
   "execution_count": 79,
   "metadata": {},
   "outputs": [
    {
     "name": "stdout",
     "output_type": "stream",
     "text": [
      "### You are given a question, response, and a numbered list of themes below.\n",
      "\n",
      "Question: Tell me a little about your experience with seizures\n",
      "\n",
      "Response: Twin sons with epilepsy\n",
      "\n",
      "Themes:\n",
      "1. Child has them only\n",
      "2. Parent and child both\n",
      "\n",
      "### Which of the themes does the response above belong to? Return the theme number.\n",
      "\n",
      "Answer:\n"
     ]
    }
   ],
   "source": [
    "if len(theme_dict) > 1:\n",
    "    print(classification_prompt.format(\n",
    "        question=question.strip(),\n",
    "        classes_as_numbered_list=numbered_list(theme_dict.keys()),\n",
    "        response=responses[0].strip()\n",
    "    ))"
   ]
  },
  {
   "cell_type": "code",
   "execution_count": 77,
   "metadata": {},
   "outputs": [
    {
     "name": "stdout",
     "output_type": "stream",
     "text": [
      "not cached\n"
     ]
    },
    {
     "data": {
      "text/plain": [
       "'1'"
      ]
     },
     "execution_count": 77,
     "metadata": {},
     "output_type": "execute_result"
    }
   ],
   "source": [
    "llm(classification_prompt.format(\n",
    "    question=question.strip(),\n",
    "    classes_as_numbered_list=numbered_list(theme_dict.keys()),\n",
    "    response=responses[0].strip()\n",
    "))"
   ]
  },
  {
   "cell_type": "code",
   "execution_count": 83,
   "metadata": {},
   "outputs": [
    {
     "name": "stderr",
     "output_type": "stream",
     "text": [
      " 17%|█▋        | 8/46 [00:00<00:00, 1817.09it/s]\n"
     ]
    },
    {
     "ename": "AssertionError",
     "evalue": "question_num: 8, theme_dict: {'Medical professionals': 3, 'Spouse': 3, 'Spouse or other close family': 2, 'Would not consent': 1}, responses: (site code)-001                     NaN\n(site code)-002           Professionals\n(site code)-003                      No\n(site code)-004                     NaN\n(site code)-005             Yes- spouse\n(site code)-006    Medical professional\n(site code)-007                     NaN\n(site code)-008          Family members\n(site code)-009                  Parent\n(site code)-010     Spouse, grandparent\nUnnamed: 14                         NaN\nName: 8, dtype: object",
     "output_type": "error",
     "traceback": [
      "\u001b[0;31m---------------------------------------------------------------------------\u001b[0m",
      "\u001b[0;31mAssertionError\u001b[0m                            Traceback (most recent call last)",
      "Cell \u001b[0;32mIn[83], line 8\u001b[0m\n\u001b[1;32m      4\u001b[0m question, responses, theme_dict \u001b[38;5;241m=\u001b[39m data\u001b[38;5;241m.\u001b[39mget_data_for_question_single_site(\n\u001b[1;32m      5\u001b[0m     question_num\u001b[38;5;241m=\u001b[39mquestion_num, qs\u001b[38;5;241m=\u001b[39mqs, responses_df\u001b[38;5;241m=\u001b[39mresponses_df, themes_df\u001b[38;5;241m=\u001b[39mthemes_df)\n\u001b[1;32m      7\u001b[0m \u001b[38;5;28;01mif\u001b[39;00m \u001b[38;5;28mlen\u001b[39m(theme_dict) \u001b[38;5;241m>\u001b[39m \u001b[38;5;241m1\u001b[39m:\n\u001b[0;32m----> 8\u001b[0m     \u001b[38;5;28;01massert\u001b[39;00m \u001b[38;5;28msum\u001b[39m(theme_dict\u001b[38;5;241m.\u001b[39mvalues()) \u001b[38;5;241m==\u001b[39m \u001b[38;5;28msum\u001b[39m(responses\u001b[38;5;241m.\u001b[39mnotna()), \u001b[38;5;124mf\u001b[39m\u001b[38;5;124m'\u001b[39m\u001b[38;5;124mquestion_num: \u001b[39m\u001b[38;5;132;01m{\u001b[39;00mquestion_num\u001b[38;5;132;01m}\u001b[39;00m\u001b[38;5;124m, theme_dict: \u001b[39m\u001b[38;5;132;01m{\u001b[39;00mtheme_dict\u001b[38;5;132;01m}\u001b[39;00m\u001b[38;5;124m, responses: \u001b[39m\u001b[38;5;132;01m{\u001b[39;00mresponses\u001b[38;5;132;01m}\u001b[39;00m\u001b[38;5;124m'\u001b[39m\n",
      "\u001b[0;31mAssertionError\u001b[0m: question_num: 8, theme_dict: {'Medical professionals': 3, 'Spouse': 3, 'Spouse or other close family': 2, 'Would not consent': 1}, responses: (site code)-001                     NaN\n(site code)-002           Professionals\n(site code)-003                      No\n(site code)-004                     NaN\n(site code)-005             Yes- spouse\n(site code)-006    Medical professional\n(site code)-007                     NaN\n(site code)-008          Family members\n(site code)-009                  Parent\n(site code)-010     Spouse, grandparent\nUnnamed: 14                         NaN\nName: 8, dtype: object"
     ]
    }
   ],
   "source": [
    "# check theme_dict validity\n",
    "for question_num in tqdm(range(len(qs)), position=0):\n",
    "\n",
    "    question, responses, theme_dict = data.get_data_for_question_single_site(\n",
    "        question_num=question_num, qs=qs, responses_df=responses_df, themes_df=themes_df)\n",
    "\n",
    "    if len(theme_dict) > 1:\n",
    "\n",
    "        assert sum(theme_dict.values()) == sum(responses.notna(\n",
    "        )), f'question_num: {question_num}, theme_dict: {theme_dict}, responses: {responses}'"
   ]
  },
  {
   "cell_type": "code",
   "execution_count": 81,
   "metadata": {},
   "outputs": [
    {
     "data": {
      "text/plain": [
       "(site code)-001       Twin sons with epilepsy\n",
       "(site code)-002                      Son once\n",
       "(site code)-003                           Son\n",
       "(site code)-004                 Son has had 2\n",
       "(site code)-005     Daughter genetic syndrome\n",
       "(site code)-006      Self and son with fevers\n",
       "(site code)-007                Self and child\n",
       "(site code)-008    Daughter, febrile seizures\n",
       "(site code)-009                      Daughter\n",
       "(site code)-010                      Daughter\n",
       "Unnamed: 14                               NaN\n",
       "Name: 0, dtype: object"
      ]
     },
     "execution_count": 81,
     "metadata": {},
     "output_type": "execute_result"
    }
   ],
   "source": [
    "responses"
   ]
  },
  {
   "cell_type": "markdown",
   "metadata": {},
   "source": [
    "### Run classification"
   ]
  },
  {
   "cell_type": "code",
   "execution_count": null,
   "metadata": {},
   "outputs": [],
   "source": [
    "num_questions = 3\n",
    "classifications = defaultdict(list)\n",
    "for question_num in tqdm(range(num_questions), position=0):\n",
    "\n",
    "    question, responses, theme_dict = data.get_data_for_question_single_site(\n",
    "        question_num=question_num, qs=qs, responses_df=responses_df, themes_df=themes_df)\n",
    "\n",
    "    # only do this if there are multiple themes\n",
    "    if len(theme_dict) > 1:\n",
    "\n",
    "        for response_num in tqdm(range(len(responses)), position=1):\n",
    "            response = responses.values[response_num]\n",
    "\n",
    "            if pd.isna(response):\n",
    "                classifications[question_num].append(np.nan)\n",
    "            else:\n",
    "                prompt = sentiment_prompt.format(\n",
    "                    question=question.strip(), response=response.strip())\n",
    "                sentiments[question_num].append(llm(prompt))"
   ]
  }
 ],
 "metadata": {
  "kernelspec": {
   "display_name": ".venv",
   "language": "python",
   "name": "python3"
  },
  "language_info": {
   "codemirror_mode": {
    "name": "ipython",
    "version": 3
   },
   "file_extension": ".py",
   "mimetype": "text/x-python",
   "name": "python",
   "nbconvert_exporter": "python",
   "pygments_lexer": "ipython3",
   "version": "3.11.7"
  }
 },
 "nbformat": 4,
 "nbformat_minor": 2
}
