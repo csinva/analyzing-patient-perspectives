{
 "cells": [
  {
   "cell_type": "code",
   "execution_count": 1,
   "metadata": {},
   "outputs": [
    {
     "name": "stdout",
     "output_type": "stream",
     "text": [
      "[2024-03-09 09:07:03,168] [INFO] [real_accelerator.py:158:get_accelerator] Setting ds_accelerator to cuda (auto detect)\n"
     ]
    },
    {
     "name": "stderr",
     "output_type": "stream",
     "text": [
      "/home/chansingh/imodelsx/.venv/lib/python3.11/site-packages/thinc/compat.py:36: UserWarning: 'has_mps' is deprecated, please use 'torch.backends.mps.is_built()'\n",
      "  hasattr(torch, \"has_mps\")\n",
      "/home/chansingh/imodelsx/.venv/lib/python3.11/site-packages/thinc/compat.py:37: UserWarning: 'has_mps' is deprecated, please use 'torch.backends.mps.is_built()'\n",
      "  and torch.has_mps  # type: ignore[attr-defined]\n",
      "/home/chansingh/imodelsx/.venv/lib/python3.11/site-packages/openpyxl/worksheet/_reader.py:329: UserWarning: Unknown extension is not supported and will be removed\n",
      "  warn(msg)\n",
      "/home/chansingh/imodelsx/.venv/lib/python3.11/site-packages/openpyxl/worksheet/_reader.py:329: UserWarning: Unknown extension is not supported and will be removed\n",
      "  warn(msg)\n",
      "/home/chansingh/imodelsx/.venv/lib/python3.11/site-packages/openpyxl/worksheet/_reader.py:329: UserWarning: Unknown extension is not supported and will be removed\n",
      "  warn(msg)\n"
     ]
    },
    {
     "name": "stdout",
     "output_type": "stream",
     "text": [
      "success: 18\n",
      "fail: ['Cincinnati', 'Columbus']\n"
     ]
    }
   ],
   "source": [
    "%load_ext autoreload\n",
    "%autoreload 2\n",
    "\n",
    "import pandas as pd\n",
    "import os\n",
    "import math\n",
    "import os.path\n",
    "from os.path import join\n",
    "import numpy as np\n",
    "import imodelsx\n",
    "from tqdm import tqdm\n",
    "from collections import defaultdict\n",
    "import matplotlib.pyplot as plt\n",
    "import scipy.stats\n",
    "import imodelsx.viz\n",
    "import json\n",
    "import seaborn as sns\n",
    "import data\n",
    "import joblib\n",
    "from matplotlib.gridspec import GridSpec\n",
    "from scipy.stats import spearmanr\n",
    "LEVELS = ['Very Negative', 'Negative', 'Neutral',\n",
    "          'No response', 'Positive', 'Very Positive']\n",
    "files_dict = data.load_files_dict_single_site()"
   ]
  },
  {
   "cell_type": "markdown",
   "metadata": {},
   "source": [
    "### Filter data for single-site analysis"
   ]
  },
  {
   "cell_type": "code",
   "execution_count": 2,
   "metadata": {},
   "outputs": [],
   "source": [
    "# checkpoint = 'meta-llama/Llama-2-7b-hf'\n",
    "# checkpoint = 'meta-llama/Llama-2-70b-hf'\n",
    "checkpoint = 'gpt-4'  # gpt-35-turbo\n",
    "# checkpoint = 'gpt-35-turbo'\n",
    "# checkpoint = 'mistralai/Mistral-7B-v0.1'\n",
    "\n",
    "\n",
    "# site = 'Atlanta'\n",
    "# site = 'Columbus'\n",
    "# site = 'WashingtonDC'\n",
    "site = 'Charlotte'  # Houston, Portland\n",
    "df = files_dict[site]\n",
    "qs, responses_df, themes_df = data.split_single_site_df(df)"
   ]
  },
  {
   "cell_type": "markdown",
   "metadata": {},
   "source": [
    "### Run sentiment\n",
    "Note: this uses a lot of API calls (num questions * num responses), maybe around 400"
   ]
  },
  {
   "cell_type": "code",
   "execution_count": 3,
   "metadata": {},
   "outputs": [
    {
     "name": "stderr",
     "output_type": "stream",
     "text": [
      "  0%|          | 0/46 [00:00<?, ?it/s]/home/chansingh/pedidose-efic-analysis/notebooks/data.py:92: FutureWarning: Series.__getitem__ treating keys as positions is deprecated. In a future version, integer keys will always be treated as labels (consistent with DataFrame behavior). To access a value by position, use `ser.iloc[pos]`\n",
      "  resp = responses[i]\n",
      "100%|██████████| 11/11 [00:00<00:00, 7570.95it/s]\n"
     ]
    },
    {
     "name": "stdout",
     "output_type": "stream",
     "text": [
      "cached!\n",
      "cached!\n",
      "cached!\n",
      "cached!\n",
      "cached!\n",
      "cached!\n",
      "cached!\n",
      "cached!\n",
      "cached!\n",
      "cached!\n"
     ]
    },
    {
     "name": "stderr",
     "output_type": "stream",
     "text": [
      "100%|██████████| 11/11 [00:00<00:00, 5064.47it/s]\n"
     ]
    },
    {
     "name": "stdout",
     "output_type": "stream",
     "text": [
      "cached!\n",
      "cached!\n",
      "cached!\n",
      "cached!\n",
      "cached!\n",
      "cached!\n",
      "cached!\n",
      "cached!\n",
      "cached!\n",
      "cached!\n"
     ]
    },
    {
     "name": "stderr",
     "output_type": "stream",
     "text": [
      "100%|██████████| 11/11 [00:00<00:00, 7179.79it/s]\n"
     ]
    },
    {
     "name": "stdout",
     "output_type": "stream",
     "text": [
      "cached!\n",
      "cached!\n",
      "cached!\n"
     ]
    },
    {
     "name": "stderr",
     "output_type": "stream",
     "text": [
      "100%|██████████| 11/11 [00:00<00:00, 5568.11it/s]\n"
     ]
    },
    {
     "name": "stdout",
     "output_type": "stream",
     "text": [
      "cached!\n",
      "cached!\n",
      "cached!\n",
      "cached!\n",
      "cached!\n",
      "cached!\n",
      "cached!\n",
      "cached!\n",
      "cached!\n",
      "cached!\n"
     ]
    },
    {
     "name": "stderr",
     "output_type": "stream",
     "text": [
      "100%|██████████| 11/11 [00:00<00:00, 5847.57it/s]\n"
     ]
    },
    {
     "name": "stdout",
     "output_type": "stream",
     "text": [
      "cached!\n",
      "cached!\n",
      "cached!\n",
      "cached!\n",
      "cached!\n",
      "cached!\n",
      "cached!\n",
      "cached!\n",
      "cached!\n",
      "cached!\n"
     ]
    },
    {
     "name": "stderr",
     "output_type": "stream",
     "text": [
      "100%|██████████| 11/11 [00:00<00:00, 5749.20it/s]\n"
     ]
    },
    {
     "name": "stdout",
     "output_type": "stream",
     "text": [
      "cached!\n",
      "cached!\n",
      "cached!\n",
      "cached!\n",
      "cached!\n",
      "cached!\n",
      "cached!\n",
      "cached!\n",
      "cached!\n",
      "cached!\n"
     ]
    },
    {
     "name": "stderr",
     "output_type": "stream",
     "text": [
      "100%|██████████| 11/11 [00:00<00:00, 5752.07it/s]\n"
     ]
    },
    {
     "name": "stdout",
     "output_type": "stream",
     "text": [
      "cached!\n",
      "cached!\n",
      "cached!\n",
      "cached!\n",
      "cached!\n",
      "cached!\n",
      "cached!\n",
      "cached!\n",
      "cached!\n",
      "cached!\n"
     ]
    },
    {
     "name": "stderr",
     "output_type": "stream",
     "text": [
      "100%|██████████| 11/11 [00:00<00:00, 7206.71it/s]\n"
     ]
    },
    {
     "name": "stdout",
     "output_type": "stream",
     "text": [
      "cached!\n",
      "cached!\n",
      "cached!\n",
      "cached!\n",
      "cached!\n",
      "cached!\n"
     ]
    },
    {
     "name": "stderr",
     "output_type": "stream",
     "text": [
      "100%|██████████| 11/11 [00:00<00:00, 5815.88it/s]\n"
     ]
    },
    {
     "name": "stdout",
     "output_type": "stream",
     "text": [
      "cached!\n",
      "cached!\n",
      "cached!\n",
      "cached!\n",
      "cached!\n",
      "cached!\n",
      "cached!\n",
      "cached!\n",
      "cached!\n",
      "cached!\n"
     ]
    },
    {
     "name": "stderr",
     "output_type": "stream",
     "text": [
      "100%|██████████| 11/11 [00:00<00:00, 6420.45it/s]\n"
     ]
    },
    {
     "name": "stdout",
     "output_type": "stream",
     "text": [
      "cached!\n",
      "cached!\n",
      "cached!\n",
      "cached!\n",
      "cached!\n",
      "cached!\n",
      "cached!\n",
      "cached!\n"
     ]
    },
    {
     "name": "stderr",
     "output_type": "stream",
     "text": [
      "100%|██████████| 11/11 [00:00<00:00, 7234.96it/s]\n"
     ]
    },
    {
     "name": "stdout",
     "output_type": "stream",
     "text": [
      "cached!\n",
      "cached!\n",
      "cached!\n",
      "cached!\n",
      "cached!\n",
      "cached!\n"
     ]
    },
    {
     "name": "stderr",
     "output_type": "stream",
     "text": [
      "100%|██████████| 11/11 [00:00<00:00, 10211.90it/s]\n"
     ]
    },
    {
     "name": "stdout",
     "output_type": "stream",
     "text": [
      "cached!\n",
      "cached!\n",
      "cached!\n",
      "cached!\n",
      "cached!\n",
      "cached!\n"
     ]
    },
    {
     "name": "stderr",
     "output_type": "stream",
     "text": [
      "100%|██████████| 11/11 [00:00<00:00, 6037.34it/s]\n"
     ]
    },
    {
     "name": "stdout",
     "output_type": "stream",
     "text": [
      "cached!\n",
      "cached!\n",
      "cached!\n",
      "cached!\n",
      "cached!\n",
      "cached!\n",
      "cached!\n",
      "cached!\n",
      "cached!\n"
     ]
    },
    {
     "name": "stderr",
     "output_type": "stream",
     "text": [
      "100%|██████████| 11/11 [00:00<00:00, 15618.60it/s]\n"
     ]
    },
    {
     "name": "stdout",
     "output_type": "stream",
     "text": [
      "cached!\n",
      "cached!\n",
      "cached!\n",
      "cached!\n"
     ]
    },
    {
     "name": "stderr",
     "output_type": "stream",
     "text": [
      "100%|██████████| 11/11 [00:00<00:00, 7373.72it/s]\n"
     ]
    },
    {
     "name": "stdout",
     "output_type": "stream",
     "text": [
      "cached!\n",
      "cached!\n",
      "cached!\n",
      "cached!\n",
      "cached!\n",
      "cached!\n",
      "cached!\n",
      "cached!\n"
     ]
    },
    {
     "name": "stderr",
     "output_type": "stream",
     "text": [
      "100%|██████████| 11/11 [00:00<00:00, 7516.67it/s]\n"
     ]
    },
    {
     "name": "stdout",
     "output_type": "stream",
     "text": [
      "cached!\n",
      "cached!\n",
      "cached!\n",
      "cached!\n",
      "cached!\n",
      "cached!\n"
     ]
    },
    {
     "name": "stderr",
     "output_type": "stream",
     "text": [
      "100%|██████████| 11/11 [00:00<00:00, 6097.18it/s]\n"
     ]
    },
    {
     "name": "stdout",
     "output_type": "stream",
     "text": [
      "cached!\n",
      "cached!\n",
      "cached!\n",
      "cached!\n",
      "cached!\n",
      "cached!\n",
      "cached!\n",
      "cached!\n",
      "cached!\n"
     ]
    },
    {
     "name": "stderr",
     "output_type": "stream",
     "text": [
      "100%|██████████| 11/11 [00:00<00:00, 5720.69it/s]\n"
     ]
    },
    {
     "name": "stdout",
     "output_type": "stream",
     "text": [
      "cached!\n",
      "cached!\n",
      "cached!\n",
      "cached!\n",
      "cached!\n",
      "cached!\n",
      "cached!\n",
      "cached!\n",
      "cached!\n",
      "cached!\n"
     ]
    },
    {
     "name": "stderr",
     "output_type": "stream",
     "text": [
      "100%|██████████| 11/11 [00:00<00:00, 6217.13it/s]\n"
     ]
    },
    {
     "name": "stdout",
     "output_type": "stream",
     "text": [
      "cached!\n",
      "cached!\n",
      "cached!\n",
      "cached!\n",
      "cached!\n",
      "cached!\n",
      "cached!\n",
      "cached!\n",
      "cached!\n"
     ]
    },
    {
     "name": "stderr",
     "output_type": "stream",
     "text": [
      "100%|██████████| 11/11 [00:00<00:00, 9982.12it/s]\n"
     ]
    },
    {
     "name": "stdout",
     "output_type": "stream",
     "text": [
      "cached!\n",
      "cached!\n"
     ]
    },
    {
     "name": "stderr",
     "output_type": "stream",
     "text": [
      "100%|██████████| 11/11 [00:00<00:00, 6228.88it/s]\n"
     ]
    },
    {
     "name": "stdout",
     "output_type": "stream",
     "text": [
      "cached!\n",
      "cached!\n",
      "cached!\n",
      "cached!\n",
      "cached!\n",
      "cached!\n",
      "cached!\n",
      "cached!\n",
      "cached!\n"
     ]
    },
    {
     "name": "stderr",
     "output_type": "stream",
     "text": [
      "100%|██████████| 11/11 [00:00<00:00, 5947.83it/s]\n",
      " 48%|████▊     | 22/46 [00:00<00:00, 218.55it/s]"
     ]
    },
    {
     "name": "stdout",
     "output_type": "stream",
     "text": [
      "cached!\n",
      "cached!\n",
      "cached!\n",
      "cached!\n",
      "cached!\n",
      "cached!\n",
      "cached!\n",
      "cached!\n",
      "cached!\n",
      "cached!\n"
     ]
    },
    {
     "name": "stderr",
     "output_type": "stream",
     "text": [
      "100%|██████████| 11/11 [00:00<00:00, 6634.65it/s]\n"
     ]
    },
    {
     "name": "stdout",
     "output_type": "stream",
     "text": [
      "cached!\n",
      "cached!\n",
      "cached!\n",
      "cached!\n",
      "cached!\n",
      "cached!\n",
      "cached!\n",
      "cached!\n",
      "cached!\n",
      "cached!\n"
     ]
    },
    {
     "name": "stderr",
     "output_type": "stream",
     "text": [
      "100%|██████████| 11/11 [00:00<00:00, 5997.31it/s]\n"
     ]
    },
    {
     "name": "stdout",
     "output_type": "stream",
     "text": [
      "cached!\n",
      "cached!\n",
      "cached!\n",
      "cached!\n",
      "cached!\n",
      "cached!\n",
      "cached!\n",
      "cached!\n",
      "cached!\n",
      "cached!\n"
     ]
    },
    {
     "name": "stderr",
     "output_type": "stream",
     "text": [
      "100%|██████████| 11/11 [00:00<00:00, 5932.54it/s]\n"
     ]
    },
    {
     "name": "stdout",
     "output_type": "stream",
     "text": [
      "cached!\n",
      "cached!\n",
      "cached!\n",
      "cached!\n",
      "cached!\n",
      "cached!\n",
      "cached!\n",
      "cached!\n",
      "cached!\n",
      "cached!\n"
     ]
    },
    {
     "name": "stderr",
     "output_type": "stream",
     "text": [
      "100%|██████████| 11/11 [00:00<00:00, 5967.06it/s]\n"
     ]
    },
    {
     "name": "stdout",
     "output_type": "stream",
     "text": [
      "cached!\n",
      "cached!\n",
      "cached!\n",
      "cached!\n",
      "cached!\n",
      "cached!\n",
      "cached!\n",
      "cached!\n",
      "cached!\n",
      "cached!\n"
     ]
    },
    {
     "name": "stderr",
     "output_type": "stream",
     "text": [
      "100%|██████████| 11/11 [00:00<00:00, 5882.61it/s]\n"
     ]
    },
    {
     "name": "stdout",
     "output_type": "stream",
     "text": [
      "cached!\n",
      "cached!\n",
      "cached!\n",
      "cached!\n",
      "cached!\n",
      "cached!\n",
      "cached!\n",
      "cached!\n",
      "cached!\n",
      "cached!\n"
     ]
    },
    {
     "name": "stderr",
     "output_type": "stream",
     "text": [
      "100%|██████████| 11/11 [00:00<00:00, 6024.72it/s]\n"
     ]
    },
    {
     "name": "stdout",
     "output_type": "stream",
     "text": [
      "cached!\n",
      "cached!\n",
      "cached!\n",
      "cached!\n",
      "cached!\n",
      "cached!\n",
      "cached!\n",
      "cached!\n",
      "cached!\n",
      "cached!\n"
     ]
    },
    {
     "name": "stderr",
     "output_type": "stream",
     "text": [
      "100%|██████████| 11/11 [00:00<00:00, 6057.95it/s]\n"
     ]
    },
    {
     "name": "stdout",
     "output_type": "stream",
     "text": [
      "cached!\n",
      "cached!\n",
      "cached!\n",
      "cached!\n",
      "cached!\n",
      "cached!\n",
      "cached!\n",
      "cached!\n",
      "cached!\n",
      "cached!\n"
     ]
    },
    {
     "name": "stderr",
     "output_type": "stream",
     "text": [
      "100%|██████████| 11/11 [00:00<00:00, 5914.29it/s]\n"
     ]
    },
    {
     "name": "stdout",
     "output_type": "stream",
     "text": [
      "cached!\n",
      "cached!\n",
      "cached!\n",
      "cached!\n",
      "cached!\n",
      "cached!\n",
      "cached!\n",
      "cached!\n",
      "cached!\n",
      "cached!\n"
     ]
    },
    {
     "name": "stderr",
     "output_type": "stream",
     "text": [
      "100%|██████████| 11/11 [00:00<00:00, 5900.67it/s]\n"
     ]
    },
    {
     "name": "stdout",
     "output_type": "stream",
     "text": [
      "cached!\n",
      "cached!\n",
      "cached!\n",
      "cached!\n",
      "cached!\n",
      "cached!\n",
      "cached!\n",
      "cached!\n",
      "cached!\n",
      "cached!\n"
     ]
    },
    {
     "name": "stderr",
     "output_type": "stream",
     "text": [
      "100%|██████████| 11/11 [00:00<00:00, 9644.09it/s]\n"
     ]
    },
    {
     "name": "stdout",
     "output_type": "stream",
     "text": [
      "cached!\n",
      "cached!\n",
      "cached!\n"
     ]
    },
    {
     "name": "stderr",
     "output_type": "stream",
     "text": [
      "100%|██████████| 11/11 [00:00<00:00, 7595.87it/s]\n"
     ]
    },
    {
     "name": "stdout",
     "output_type": "stream",
     "text": [
      "cached!\n",
      "cached!\n",
      "cached!\n",
      "cached!\n",
      "cached!\n",
      "cached!\n"
     ]
    },
    {
     "name": "stderr",
     "output_type": "stream",
     "text": [
      "100%|██████████| 11/11 [00:00<00:00, 5883.36it/s]\n"
     ]
    },
    {
     "name": "stdout",
     "output_type": "stream",
     "text": [
      "cached!\n",
      "cached!\n",
      "cached!\n",
      "cached!\n",
      "cached!\n",
      "cached!\n",
      "cached!\n",
      "cached!\n",
      "cached!\n",
      "cached!\n"
     ]
    },
    {
     "name": "stderr",
     "output_type": "stream",
     "text": [
      "100%|██████████| 11/11 [00:00<00:00, 8032.27it/s]\n"
     ]
    },
    {
     "name": "stdout",
     "output_type": "stream",
     "text": [
      "cached!\n",
      "cached!\n",
      "cached!\n",
      "cached!\n",
      "cached!\n"
     ]
    },
    {
     "name": "stderr",
     "output_type": "stream",
     "text": [
      "100%|██████████| 11/11 [00:00<00:00, 6312.40it/s]\n"
     ]
    },
    {
     "name": "stdout",
     "output_type": "stream",
     "text": [
      "cached!\n",
      "cached!\n",
      "cached!\n",
      "cached!\n",
      "cached!\n",
      "cached!\n",
      "cached!\n",
      "cached!\n",
      "cached!\n",
      "cached!\n"
     ]
    },
    {
     "name": "stderr",
     "output_type": "stream",
     "text": [
      "100%|██████████| 11/11 [00:00<00:00, 6279.75it/s]\n"
     ]
    },
    {
     "name": "stdout",
     "output_type": "stream",
     "text": [
      "cached!\n",
      "cached!\n",
      "cached!\n",
      "cached!\n",
      "cached!\n",
      "cached!\n",
      "cached!\n",
      "cached!\n",
      "cached!\n",
      "cached!\n"
     ]
    },
    {
     "name": "stderr",
     "output_type": "stream",
     "text": [
      "100%|██████████| 11/11 [00:00<00:00, 6220.49it/s]\n"
     ]
    },
    {
     "name": "stdout",
     "output_type": "stream",
     "text": [
      "cached!\n",
      "cached!\n",
      "cached!\n",
      "cached!\n",
      "cached!\n",
      "cached!\n",
      "cached!\n",
      "cached!\n",
      "cached!\n",
      "cached!\n"
     ]
    },
    {
     "name": "stderr",
     "output_type": "stream",
     "text": [
      "100%|██████████| 11/11 [00:00<00:00, 6415.98it/s]\n"
     ]
    },
    {
     "name": "stdout",
     "output_type": "stream",
     "text": [
      "cached!\n",
      "cached!\n",
      "cached!\n",
      "cached!\n",
      "cached!\n",
      "cached!\n",
      "cached!\n",
      "cached!\n",
      "cached!\n",
      "cached!\n"
     ]
    },
    {
     "name": "stderr",
     "output_type": "stream",
     "text": [
      "100%|██████████| 11/11 [00:00<00:00, 6282.32it/s]\n"
     ]
    },
    {
     "name": "stdout",
     "output_type": "stream",
     "text": [
      "cached!\n",
      "cached!\n",
      "cached!\n",
      "cached!\n",
      "cached!\n",
      "cached!\n",
      "cached!\n",
      "cached!\n",
      "cached!\n",
      "cached!\n"
     ]
    },
    {
     "name": "stderr",
     "output_type": "stream",
     "text": [
      "100%|██████████| 11/11 [00:00<00:00, 5686.14it/s]\n"
     ]
    },
    {
     "name": "stdout",
     "output_type": "stream",
     "text": [
      "cached!\n",
      "cached!\n",
      "cached!\n",
      "cached!\n",
      "cached!\n",
      "cached!\n",
      "cached!\n",
      "cached!\n",
      "cached!\n",
      "cached!\n"
     ]
    },
    {
     "name": "stderr",
     "output_type": "stream",
     "text": [
      "100%|██████████| 11/11 [00:00<00:00, 6525.79it/s]\n"
     ]
    },
    {
     "name": "stdout",
     "output_type": "stream",
     "text": [
      "cached!\n",
      "cached!\n",
      "cached!\n",
      "cached!\n",
      "cached!\n",
      "cached!\n",
      "cached!\n",
      "cached!\n",
      "cached!\n",
      "cached!\n"
     ]
    },
    {
     "name": "stderr",
     "output_type": "stream",
     "text": [
      "100%|██████████| 11/11 [00:00<00:00, 6620.37it/s]\n"
     ]
    },
    {
     "name": "stdout",
     "output_type": "stream",
     "text": [
      "cached!\n",
      "cached!\n",
      "cached!\n",
      "cached!\n",
      "cached!\n",
      "cached!\n",
      "cached!\n",
      "cached!\n",
      "cached!\n",
      "cached!\n"
     ]
    },
    {
     "name": "stderr",
     "output_type": "stream",
     "text": [
      "100%|██████████| 11/11 [00:00<00:00, 6381.38it/s]\n"
     ]
    },
    {
     "name": "stdout",
     "output_type": "stream",
     "text": [
      "cached!\n",
      "cached!\n",
      "cached!\n",
      "cached!\n",
      "cached!\n",
      "cached!\n",
      "cached!\n",
      "cached!\n",
      "cached!\n",
      "cached!\n"
     ]
    },
    {
     "name": "stderr",
     "output_type": "stream",
     "text": [
      "100%|██████████| 11/11 [00:00<00:00, 7521.58it/s]\n",
      " 98%|█████████▊| 45/46 [00:00<00:00, 224.38it/s]"
     ]
    },
    {
     "name": "stdout",
     "output_type": "stream",
     "text": [
      "cached!\n",
      "cached!\n",
      "cached!\n",
      "cached!\n",
      "cached!\n",
      "cached!\n",
      "cached!\n"
     ]
    },
    {
     "name": "stderr",
     "output_type": "stream",
     "text": [
      "100%|██████████| 11/11 [00:00<00:00, 8135.66it/s]\n",
      "100%|██████████| 46/46 [00:00<00:00, 223.58it/s]\n"
     ]
    },
    {
     "name": "stdout",
     "output_type": "stream",
     "text": [
      "cached!\n",
      "cached!\n",
      "cached!\n",
      "cached!\n",
      "cached!\n",
      "cached!\n",
      "cached!\n",
      "cached!\n"
     ]
    },
    {
     "name": "stderr",
     "output_type": "stream",
     "text": [
      "  0%|          | 0/46 [00:00<?, ?it/s]/home/chansingh/pedidose-efic-analysis/notebooks/data.py:92: FutureWarning: Series.__getitem__ treating keys as positions is deprecated. In a future version, integer keys will always be treated as labels (consistent with DataFrame behavior). To access a value by position, use `ser.iloc[pos]`\n",
      "  resp = responses[i]\n",
      "100%|██████████| 10/10 [00:00<00:00, 6784.70it/s]\n"
     ]
    },
    {
     "name": "stdout",
     "output_type": "stream",
     "text": [
      "cached!\n",
      "cached!\n",
      "cached!\n",
      "cached!\n",
      "cached!\n",
      "cached!\n",
      "cached!\n",
      "cached!\n",
      "cached!\n",
      "cached!\n"
     ]
    },
    {
     "name": "stderr",
     "output_type": "stream",
     "text": [
      "100%|██████████| 10/10 [00:00<00:00, 5889.22it/s]\n"
     ]
    },
    {
     "name": "stdout",
     "output_type": "stream",
     "text": [
      "cached!\n",
      "cached!\n",
      "cached!\n",
      "cached!\n",
      "cached!\n",
      "cached!\n",
      "cached!\n",
      "cached!\n",
      "cached!\n",
      "cached!\n"
     ]
    },
    {
     "name": "stderr",
     "output_type": "stream",
     "text": []
    },
    {
     "name": "stdout",
     "output_type": "stream",
     "text": [
      "cached!\n"
     ]
    },
    {
     "name": "stderr",
     "output_type": "stream",
     "text": [
      "100%|██████████| 10/10 [00:00<00:00, 6458.74it/s]\n"
     ]
    },
    {
     "name": "stdout",
     "output_type": "stream",
     "text": [
      "cached!\n",
      "cached!\n",
      "cached!\n"
     ]
    },
    {
     "name": "stderr",
     "output_type": "stream",
     "text": [
      "100%|██████████| 10/10 [00:00<00:00, 5900.82it/s]\n"
     ]
    },
    {
     "name": "stdout",
     "output_type": "stream",
     "text": [
      "cached!\n",
      "cached!\n",
      "cached!\n",
      "cached!\n",
      "cached!\n",
      "cached!\n",
      "cached!\n",
      "cached!\n",
      "cached!\n",
      "cached!\n"
     ]
    },
    {
     "name": "stderr",
     "output_type": "stream",
     "text": []
    },
    {
     "name": "stdout",
     "output_type": "stream",
     "text": [
      "cached!\n",
      "cached!\n"
     ]
    },
    {
     "name": "stderr",
     "output_type": "stream",
     "text": [
      "100%|██████████| 10/10 [00:00<00:00, 4683.23it/s]\n"
     ]
    },
    {
     "name": "stdout",
     "output_type": "stream",
     "text": [
      "cached!\n",
      "cached!\n",
      "cached!\n",
      "cached!\n",
      "cached!\n",
      "cached!\n",
      "cached!\n",
      "cached!\n"
     ]
    },
    {
     "name": "stderr",
     "output_type": "stream",
     "text": []
    },
    {
     "name": "stdout",
     "output_type": "stream",
     "text": [
      "cached!\n"
     ]
    },
    {
     "name": "stderr",
     "output_type": "stream",
     "text": [
      "100%|██████████| 10/10 [00:00<00:00, 4751.68it/s]\n"
     ]
    },
    {
     "name": "stdout",
     "output_type": "stream",
     "text": [
      "cached!\n",
      "cached!\n",
      "cached!\n",
      "cached!\n",
      "cached!\n",
      "cached!\n",
      "cached!\n",
      "cached!\n"
     ]
    },
    {
     "name": "stderr",
     "output_type": "stream",
     "text": [
      "100%|██████████| 10/10 [00:00<00:00, 4942.03it/s]\n"
     ]
    },
    {
     "name": "stdout",
     "output_type": "stream",
     "text": [
      "cached!\n",
      "cached!\n",
      "cached!\n",
      "cached!\n",
      "cached!\n",
      "cached!\n",
      "cached!\n",
      "cached!\n",
      "cached!\n",
      "cached!\n"
     ]
    },
    {
     "name": "stderr",
     "output_type": "stream",
     "text": []
    },
    {
     "name": "stdout",
     "output_type": "stream",
     "text": [
      "cached!\n"
     ]
    },
    {
     "name": "stderr",
     "output_type": "stream",
     "text": [
      "100%|██████████| 10/10 [00:00<00:00, 4505.64it/s]\n"
     ]
    },
    {
     "name": "stdout",
     "output_type": "stream",
     "text": [
      "cached!\n",
      "cached!\n",
      "cached!\n",
      "cached!\n",
      "cached!\n",
      "cached!\n",
      "cached!\n",
      "cached!\n"
     ]
    },
    {
     "name": "stderr",
     "output_type": "stream",
     "text": [
      "100%|██████████| 10/10 [00:00<00:00, 4737.19it/s]\n"
     ]
    },
    {
     "name": "stdout",
     "output_type": "stream",
     "text": [
      "cached!\n",
      "cached!\n",
      "cached!\n",
      "cached!\n",
      "cached!\n",
      "cached!\n",
      "cached!\n",
      "cached!\n",
      "cached!\n",
      "cached!\n"
     ]
    },
    {
     "name": "stderr",
     "output_type": "stream",
     "text": [
      "100%|██████████| 10/10 [00:00<00:00, 6411.35it/s]\n"
     ]
    },
    {
     "name": "stdout",
     "output_type": "stream",
     "text": [
      "cached!\n",
      "cached!\n",
      "cached!\n",
      "cached!\n",
      "cached!\n",
      "cached!\n",
      "cached!\n"
     ]
    },
    {
     "name": "stderr",
     "output_type": "stream",
     "text": [
      "100%|██████████| 10/10 [00:00<00:00, 6386.94it/s]\n"
     ]
    },
    {
     "name": "stdout",
     "output_type": "stream",
     "text": [
      "cached!\n",
      "cached!\n",
      "cached!\n",
      "cached!\n",
      "cached!\n"
     ]
    },
    {
     "name": "stderr",
     "output_type": "stream",
     "text": [
      "100%|██████████| 10/10 [00:00<00:00, 6488.71it/s]\n"
     ]
    },
    {
     "name": "stdout",
     "output_type": "stream",
     "text": [
      "cached!\n",
      "cached!\n",
      "cached!\n",
      "cached!\n",
      "cached!\n"
     ]
    },
    {
     "name": "stderr",
     "output_type": "stream",
     "text": [
      "100%|██████████| 10/10 [00:00<00:00, 4203.97it/s]\n"
     ]
    },
    {
     "name": "stdout",
     "output_type": "stream",
     "text": [
      "cached!\n",
      "cached!\n",
      "cached!\n",
      "cached!\n",
      "cached!\n",
      "cached!\n",
      "cached!\n",
      "cached!\n",
      "cached!\n"
     ]
    },
    {
     "name": "stderr",
     "output_type": "stream",
     "text": []
    },
    {
     "name": "stdout",
     "output_type": "stream",
     "text": [
      "cached!\n"
     ]
    },
    {
     "name": "stderr",
     "output_type": "stream",
     "text": [
      "100%|██████████| 10/10 [00:00<00:00, 4362.25it/s]\n"
     ]
    },
    {
     "name": "stdout",
     "output_type": "stream",
     "text": [
      "cached!\n",
      "cached!\n",
      "cached!\n",
      "cached!\n",
      "cached!\n",
      "cached!\n"
     ]
    },
    {
     "name": "stderr",
     "output_type": "stream",
     "text": [
      "100%|██████████| 10/10 [00:00<00:00, 5818.15it/s]\n"
     ]
    },
    {
     "name": "stdout",
     "output_type": "stream",
     "text": [
      "cached!\n",
      "cached!\n",
      "cached!\n",
      "cached!\n",
      "cached!\n",
      "cached!\n",
      "cached!\n",
      "cached!\n",
      "cached!\n",
      "cached!\n"
     ]
    },
    {
     "name": "stderr",
     "output_type": "stream",
     "text": [
      "100%|██████████| 10/10 [00:00<00:00, 6789.10it/s]\n"
     ]
    },
    {
     "name": "stdout",
     "output_type": "stream",
     "text": [
      "cached!\n",
      "cached!\n",
      "cached!\n",
      "cached!\n",
      "cached!\n"
     ]
    },
    {
     "name": "stderr",
     "output_type": "stream",
     "text": [
      "100%|██████████| 10/10 [00:00<00:00, 9965.08it/s]\n"
     ]
    },
    {
     "name": "stdout",
     "output_type": "stream",
     "text": [
      "cached!\n",
      "cached!\n",
      "cached!\n"
     ]
    },
    {
     "name": "stderr",
     "output_type": "stream",
     "text": [
      "100%|██████████| 10/10 [00:00<00:00, 7707.28it/s]\n"
     ]
    },
    {
     "name": "stdout",
     "output_type": "stream",
     "text": [
      "cached!\n",
      "cached!\n",
      "cached!\n",
      "cached!\n"
     ]
    },
    {
     "name": "stderr",
     "output_type": "stream",
     "text": []
    },
    {
     "name": "stdout",
     "output_type": "stream",
     "text": [
      "cached!\n"
     ]
    },
    {
     "name": "stderr",
     "output_type": "stream",
     "text": [
      "100%|██████████| 10/10 [00:00<00:00, 4239.67it/s]\n"
     ]
    },
    {
     "name": "stdout",
     "output_type": "stream",
     "text": [
      "cached!\n",
      "cached!\n",
      "cached!\n",
      "cached!\n",
      "cached!\n",
      "cached!\n",
      "cached!\n",
      "cached!\n",
      "cached!\n"
     ]
    },
    {
     "name": "stderr",
     "output_type": "stream",
     "text": [
      "100%|██████████| 10/10 [00:00<00:00, 6424.11it/s]\n"
     ]
    },
    {
     "name": "stdout",
     "output_type": "stream",
     "text": [
      "cached!\n",
      "cached!\n",
      "cached!\n",
      "cached!\n",
      "cached!\n",
      "cached!\n",
      "cached!\n"
     ]
    },
    {
     "name": "stderr",
     "output_type": "stream",
     "text": [
      "100%|██████████| 10/10 [00:00<00:00, 4912.51it/s]\n"
     ]
    },
    {
     "name": "stdout",
     "output_type": "stream",
     "text": [
      "cached!\n",
      "cached!\n",
      "cached!\n",
      "cached!\n",
      "cached!\n",
      "cached!\n",
      "cached!\n",
      "cached!\n",
      "cached!\n",
      "cached!\n"
     ]
    },
    {
     "name": "stderr",
     "output_type": "stream",
     "text": []
    },
    {
     "name": "stdout",
     "output_type": "stream",
     "text": [
      "cached!\n"
     ]
    },
    {
     "name": "stderr",
     "output_type": "stream",
     "text": [
      "100%|██████████| 10/10 [00:00<00:00, 4052.86it/s]\n",
      " 48%|████▊     | 22/46 [00:00<00:00, 212.86it/s]"
     ]
    },
    {
     "name": "stdout",
     "output_type": "stream",
     "text": [
      "cached!\n",
      "cached!\n",
      "cached!\n",
      "cached!\n",
      "cached!\n",
      "cached!\n",
      "cached!\n",
      "cached!\n",
      "cached!\n"
     ]
    },
    {
     "name": "stderr",
     "output_type": "stream",
     "text": [
      "100%|██████████| 10/10 [00:00<00:00, 4286.46it/s]\n"
     ]
    },
    {
     "name": "stdout",
     "output_type": "stream",
     "text": [
      "cached!\n",
      "cached!\n",
      "cached!\n",
      "cached!\n",
      "cached!\n",
      "cached!\n",
      "cached!\n",
      "cached!\n",
      "cached!\n",
      "cached!\n"
     ]
    },
    {
     "name": "stderr",
     "output_type": "stream",
     "text": []
    },
    {
     "name": "stdout",
     "output_type": "stream",
     "text": [
      "cached!\n",
      "cached!\n",
      "cached!\n",
      "cached!\n",
      "cached!\n",
      "cached!\n",
      "cached!\n"
     ]
    },
    {
     "name": "stderr",
     "output_type": "stream",
     "text": [
      "100%|██████████| 10/10 [00:00<00:00, 3770.16it/s]\n"
     ]
    },
    {
     "name": "stdout",
     "output_type": "stream",
     "text": [
      "cached!\n",
      "cached!\n"
     ]
    },
    {
     "name": "stderr",
     "output_type": "stream",
     "text": []
    },
    {
     "name": "stdout",
     "output_type": "stream",
     "text": [
      "cached!\n"
     ]
    },
    {
     "name": "stderr",
     "output_type": "stream",
     "text": [
      "100%|██████████| 10/10 [00:00<00:00, 4180.93it/s]\n"
     ]
    },
    {
     "name": "stdout",
     "output_type": "stream",
     "text": [
      "cached!\n",
      "cached!\n",
      "cached!\n",
      "cached!\n",
      "cached!\n",
      "cached!\n",
      "cached!\n",
      "cached!\n",
      "cached!\n"
     ]
    },
    {
     "name": "stderr",
     "output_type": "stream",
     "text": []
    },
    {
     "name": "stdout",
     "output_type": "stream",
     "text": [
      "cached!\n"
     ]
    },
    {
     "name": "stderr",
     "output_type": "stream",
     "text": [
      "100%|██████████| 10/10 [00:00<00:00, 4404.39it/s]\n"
     ]
    },
    {
     "name": "stdout",
     "output_type": "stream",
     "text": [
      "cached!\n",
      "cached!\n",
      "cached!\n",
      "cached!\n",
      "cached!\n",
      "cached!\n",
      "cached!\n",
      "cached!\n"
     ]
    },
    {
     "name": "stderr",
     "output_type": "stream",
     "text": []
    },
    {
     "name": "stdout",
     "output_type": "stream",
     "text": [
      "cached!\n",
      "cached!\n"
     ]
    },
    {
     "name": "stderr",
     "output_type": "stream",
     "text": [
      "100%|██████████| 10/10 [00:00<00:00, 4322.24it/s]\n"
     ]
    },
    {
     "name": "stdout",
     "output_type": "stream",
     "text": [
      "cached!\n",
      "cached!\n",
      "cached!\n",
      "cached!\n",
      "cached!\n",
      "cached!\n",
      "cached!\n"
     ]
    },
    {
     "name": "stderr",
     "output_type": "stream",
     "text": [
      "100%|██████████| 10/10 [00:00<00:00, 4949.62it/s]\n"
     ]
    },
    {
     "name": "stdout",
     "output_type": "stream",
     "text": [
      "cached!\n",
      "cached!\n",
      "cached!\n",
      "cached!\n",
      "cached!\n",
      "cached!\n",
      "cached!\n",
      "cached!\n",
      "cached!\n",
      "cached!\n"
     ]
    },
    {
     "name": "stderr",
     "output_type": "stream",
     "text": [
      "100%|██████████| 10/10 [00:00<00:00, 6775.94it/s]\n"
     ]
    },
    {
     "name": "stdout",
     "output_type": "stream",
     "text": [
      "cached!\n",
      "cached!\n",
      "cached!\n",
      "cached!\n",
      "cached!\n",
      "cached!\n",
      "cached!\n",
      "cached!\n",
      "cached!\n",
      "cached!\n"
     ]
    },
    {
     "name": "stderr",
     "output_type": "stream",
     "text": [
      "100%|██████████| 10/10 [00:00<00:00, 5210.96it/s]\n"
     ]
    },
    {
     "name": "stdout",
     "output_type": "stream",
     "text": [
      "cached!\n",
      "cached!\n",
      "cached!\n",
      "cached!\n",
      "cached!\n",
      "cached!\n",
      "cached!\n",
      "cached!\n",
      "cached!\n"
     ]
    },
    {
     "name": "stderr",
     "output_type": "stream",
     "text": []
    },
    {
     "name": "stdout",
     "output_type": "stream",
     "text": [
      "cached!\n",
      "cached!\n",
      "cached!\n",
      "cached!\n",
      "cached!\n",
      "cached!\n",
      "cached!\n",
      "cached!\n",
      "cached!\n",
      "cached!\n"
     ]
    },
    {
     "name": "stderr",
     "output_type": "stream",
     "text": [
      "100%|██████████| 10/10 [00:00<00:00, 6253.62it/s]\n"
     ]
    },
    {
     "name": "stdout",
     "output_type": "stream",
     "text": [
      "cached!\n",
      "cached!\n",
      "cached!\n",
      "cached!\n",
      "cached!\n",
      "cached!\n",
      "cached!\n",
      "cached!\n",
      "cached!\n",
      "cached!\n"
     ]
    },
    {
     "name": "stderr",
     "output_type": "stream",
     "text": [
      "100%|██████████| 10/10 [00:00<00:00, 5059.47it/s]\n"
     ]
    },
    {
     "name": "stdout",
     "output_type": "stream",
     "text": [
      "cached!\n",
      "cached!\n",
      "cached!\n",
      "cached!\n",
      "cached!\n",
      "cached!\n",
      "cached!\n",
      "cached!\n",
      "cached!\n",
      "cached!\n"
     ]
    },
    {
     "name": "stderr",
     "output_type": "stream",
     "text": [
      "100%|██████████| 10/10 [00:00<00:00, 6165.37it/s]\n",
      "100%|██████████| 10/10 [00:00<00:00, 8156.95it/s]\n"
     ]
    },
    {
     "name": "stdout",
     "output_type": "stream",
     "text": [
      "cached!\n",
      "cached!\n",
      "cached!\n",
      "cached!\n",
      "cached!\n",
      "cached!\n",
      "cached!\n",
      "cached!\n",
      "cached!\n"
     ]
    },
    {
     "name": "stderr",
     "output_type": "stream",
     "text": []
    },
    {
     "name": "stdout",
     "output_type": "stream",
     "text": [
      "cached!\n"
     ]
    },
    {
     "name": "stderr",
     "output_type": "stream",
     "text": [
      "100%|██████████| 10/10 [00:00<00:00, 4270.75it/s]\n"
     ]
    },
    {
     "name": "stdout",
     "output_type": "stream",
     "text": [
      "cached!\n",
      "cached!\n",
      "cached!\n",
      "cached!\n",
      "cached!\n",
      "cached!\n",
      "cached!\n",
      "cached!\n"
     ]
    },
    {
     "name": "stderr",
     "output_type": "stream",
     "text": []
    },
    {
     "name": "stdout",
     "output_type": "stream",
     "text": [
      "cached!\n"
     ]
    },
    {
     "name": "stderr",
     "output_type": "stream",
     "text": [
      "100%|██████████| 10/10 [00:00<00:00, 4142.93it/s]\n"
     ]
    },
    {
     "name": "stdout",
     "output_type": "stream",
     "text": [
      "cached!\n",
      "cached!\n",
      "cached!\n",
      "cached!\n",
      "cached!\n",
      "cached!\n",
      "cached!\n",
      "cached!\n",
      "cached!\n"
     ]
    },
    {
     "name": "stderr",
     "output_type": "stream",
     "text": [
      "100%|██████████| 10/10 [00:00<00:00, 4897.60it/s]\n"
     ]
    },
    {
     "name": "stdout",
     "output_type": "stream",
     "text": [
      "cached!\n",
      "cached!\n",
      "cached!\n",
      "cached!\n",
      "cached!\n",
      "cached!\n",
      "cached!\n",
      "cached!\n",
      "cached!\n",
      "cached!\n"
     ]
    },
    {
     "name": "stderr",
     "output_type": "stream",
     "text": [
      "100%|██████████| 10/10 [00:00<00:00, 6385.00it/s]\n"
     ]
    },
    {
     "name": "stdout",
     "output_type": "stream",
     "text": [
      "cached!\n",
      "cached!\n",
      "cached!\n",
      "cached!\n",
      "cached!\n",
      "cached!\n",
      "cached!\n"
     ]
    },
    {
     "name": "stderr",
     "output_type": "stream",
     "text": [
      "100%|██████████| 10/10 [00:00<00:00, 4898.17it/s]\n"
     ]
    },
    {
     "name": "stdout",
     "output_type": "stream",
     "text": [
      "cached!\n",
      "cached!\n",
      "cached!\n",
      "cached!\n",
      "cached!\n",
      "cached!\n",
      "cached!\n",
      "cached!\n",
      "cached!\n",
      "cached!\n"
     ]
    },
    {
     "name": "stderr",
     "output_type": "stream",
     "text": [
      "100%|██████████| 10/10 [00:00<00:00, 5125.00it/s]\n"
     ]
    },
    {
     "name": "stdout",
     "output_type": "stream",
     "text": [
      "cached!\n",
      "cached!\n",
      "cached!\n",
      "cached!\n",
      "cached!\n",
      "cached!\n",
      "cached!\n",
      "cached!\n",
      "cached!\n",
      "cached!\n"
     ]
    },
    {
     "name": "stderr",
     "output_type": "stream",
     "text": [
      "100%|██████████| 10/10 [00:00<00:00, 5306.56it/s]\n"
     ]
    },
    {
     "name": "stdout",
     "output_type": "stream",
     "text": [
      "cached!\n",
      "cached!\n",
      "cached!\n",
      "cached!\n",
      "cached!\n",
      "cached!\n",
      "cached!\n",
      "cached!\n",
      "cached!\n",
      "cached!\n"
     ]
    },
    {
     "name": "stderr",
     "output_type": "stream",
     "text": [
      "100%|██████████| 10/10 [00:00<00:00, 6526.07it/s]\n"
     ]
    },
    {
     "name": "stdout",
     "output_type": "stream",
     "text": [
      "cached!\n",
      "cached!\n",
      "cached!\n",
      "cached!\n",
      "cached!\n",
      "cached!\n",
      "cached!\n"
     ]
    },
    {
     "name": "stderr",
     "output_type": "stream",
     "text": []
    },
    {
     "name": "stdout",
     "output_type": "stream",
     "text": [
      "cached!\n",
      "cached!\n",
      "cached!\n",
      "cached!\n",
      "cached!\n",
      "cached!\n",
      "cached!\n",
      "cached!\n",
      "cached!\n",
      "cached!\n"
     ]
    },
    {
     "name": "stderr",
     "output_type": "stream",
     "text": [
      "100%|██████████| 10/10 [00:00<00:00, 4727.57it/s]\n"
     ]
    },
    {
     "name": "stdout",
     "output_type": "stream",
     "text": [
      "cached!\n"
     ]
    },
    {
     "name": "stderr",
     "output_type": "stream",
     "text": [
      "100%|██████████| 10/10 [00:00<00:00, 6882.68it/s]\n",
      " 96%|█████████▌| 44/46 [00:00<00:00, 209.46it/s]"
     ]
    },
    {
     "name": "stdout",
     "output_type": "stream",
     "text": [
      "cached!\n",
      "cached!\n",
      "cached!\n",
      "cached!\n",
      "cached!\n",
      "cached!\n"
     ]
    },
    {
     "name": "stderr",
     "output_type": "stream",
     "text": []
    },
    {
     "name": "stdout",
     "output_type": "stream",
     "text": [
      "cached!\n",
      "cached!\n",
      "cached!\n",
      "cached!\n",
      "cached!\n",
      "cached!\n",
      "cached!\n",
      "cached!\n",
      "cached!\n",
      "cached!\n"
     ]
    },
    {
     "name": "stderr",
     "output_type": "stream",
     "text": [
      "100%|██████████| 10/10 [00:00<00:00, 5568.65it/s]\n",
      "100%|██████████| 10/10 [00:00<00:00, 5423.20it/s]\n",
      "100%|██████████| 46/46 [00:00<00:00, 209.02it/s]\n"
     ]
    },
    {
     "name": "stdout",
     "output_type": "stream",
     "text": [
      "cached!\n",
      "cached!\n",
      "cached!\n",
      "cached!\n",
      "cached!\n",
      "cached!\n",
      "cached!\n",
      "cached!\n",
      "cached!\n",
      "cached!\n"
     ]
    },
    {
     "name": "stderr",
     "output_type": "stream",
     "text": [
      "  0%|          | 0/46 [00:00<?, ?it/s]/home/chansingh/pedidose-efic-analysis/notebooks/data.py:92: FutureWarning: Series.__getitem__ treating keys as positions is deprecated. In a future version, integer keys will always be treated as labels (consistent with DataFrame behavior). To access a value by position, use `ser.iloc[pos]`\n",
      "  resp = responses[i]\n",
      "100%|██████████| 11/11 [00:00<00:00, 7850.49it/s]"
     ]
    },
    {
     "name": "stdout",
     "output_type": "stream",
     "text": [
      "cached!\n",
      "cached!\n",
      "cached!\n",
      "cached!\n",
      "cached!\n",
      "cached!\n",
      "cached!\n",
      "cached!\n"
     ]
    },
    {
     "name": "stderr",
     "output_type": "stream",
     "text": [
      "\n",
      "100%|██████████| 11/11 [00:00<00:00, 12046.30it/s]\n"
     ]
    },
    {
     "name": "stdout",
     "output_type": "stream",
     "text": [
      "cached!\n",
      "cached!\n"
     ]
    },
    {
     "name": "stderr",
     "output_type": "stream",
     "text": [
      "100%|██████████| 11/11 [00:00<00:00, 127100.12it/s]\n",
      "100%|██████████| 11/11 [00:00<00:00, 7124.36it/s]\n"
     ]
    },
    {
     "name": "stdout",
     "output_type": "stream",
     "text": [
      "cached!\n",
      "cached!\n",
      "cached!\n",
      "cached!\n",
      "cached!\n",
      "cached!\n",
      "cached!\n",
      "cached!\n",
      "cached!\n"
     ]
    },
    {
     "name": "stderr",
     "output_type": "stream",
     "text": [
      "100%|██████████| 11/11 [00:00<00:00, 6266.96it/s]\n"
     ]
    },
    {
     "name": "stdout",
     "output_type": "stream",
     "text": [
      "cached!\n",
      "cached!\n",
      "cached!\n",
      "cached!\n",
      "cached!\n",
      "cached!\n",
      "cached!\n",
      "cached!\n",
      "cached!\n"
     ]
    },
    {
     "name": "stderr",
     "output_type": "stream",
     "text": [
      "100%|██████████| 11/11 [00:00<00:00, 5129.79it/s]\n"
     ]
    },
    {
     "name": "stdout",
     "output_type": "stream",
     "text": [
      "cached!\n",
      "cached!\n",
      "cached!\n",
      "cached!\n",
      "cached!\n",
      "cached!\n",
      "cached!\n",
      "cached!\n",
      "cached!\n",
      "cached!\n"
     ]
    },
    {
     "name": "stderr",
     "output_type": "stream",
     "text": [
      "100%|██████████| 11/11 [00:00<00:00, 6117.39it/s]\n"
     ]
    },
    {
     "name": "stdout",
     "output_type": "stream",
     "text": [
      "cached!\n",
      "cached!\n",
      "cached!\n",
      "cached!\n",
      "cached!\n",
      "cached!\n",
      "cached!\n",
      "cached!\n",
      "cached!\n"
     ]
    },
    {
     "name": "stderr",
     "output_type": "stream",
     "text": [
      "100%|██████████| 11/11 [00:00<00:00, 7402.11it/s]"
     ]
    },
    {
     "name": "stdout",
     "output_type": "stream",
     "text": [
      "cached!\n",
      "cached!\n",
      "cached!\n",
      "cached!\n",
      "cached!\n",
      "cached!\n"
     ]
    },
    {
     "name": "stderr",
     "output_type": "stream",
     "text": [
      "\n",
      "100%|██████████| 11/11 [00:00<00:00, 6219.65it/s]\n"
     ]
    },
    {
     "name": "stdout",
     "output_type": "stream",
     "text": [
      "cached!\n",
      "cached!\n",
      "cached!\n",
      "cached!\n",
      "cached!\n",
      "cached!\n",
      "cached!\n",
      "cached!\n",
      "cached!\n"
     ]
    },
    {
     "name": "stderr",
     "output_type": "stream",
     "text": [
      "100%|██████████| 11/11 [00:00<00:00, 5315.97it/s]\n"
     ]
    },
    {
     "name": "stdout",
     "output_type": "stream",
     "text": [
      "cached!\n",
      "cached!\n",
      "cached!\n",
      "cached!\n",
      "cached!\n",
      "cached!\n",
      "cached!\n",
      "cached!\n",
      "cached!\n",
      "cached!\n"
     ]
    },
    {
     "name": "stderr",
     "output_type": "stream",
     "text": [
      "100%|██████████| 11/11 [00:00<00:00, 7261.15it/s]\n"
     ]
    },
    {
     "name": "stdout",
     "output_type": "stream",
     "text": [
      "cached!\n",
      "cached!\n",
      "cached!\n",
      "cached!\n",
      "cached!\n",
      "cached!\n"
     ]
    },
    {
     "name": "stderr",
     "output_type": "stream",
     "text": [
      "100%|██████████| 11/11 [00:00<00:00, 7543.71it/s]\n"
     ]
    },
    {
     "name": "stdout",
     "output_type": "stream",
     "text": [
      "cached!\n",
      "cached!\n",
      "cached!\n",
      "cached!\n",
      "cached!\n"
     ]
    },
    {
     "name": "stderr",
     "output_type": "stream",
     "text": []
    },
    {
     "name": "stdout",
     "output_type": "stream",
     "text": [
      "cached!\n",
      "cached!\n",
      "cached!\n",
      "cached!\n",
      "cached!\n",
      "cached!\n",
      "cached!\n",
      "cached!\n",
      "cached!\n",
      "cached!\n"
     ]
    },
    {
     "name": "stderr",
     "output_type": "stream",
     "text": [
      "100%|██████████| 11/11 [00:00<00:00, 5732.06it/s]\n",
      "100%|██████████| 11/11 [00:00<00:00, 7099.15it/s]"
     ]
    },
    {
     "name": "stdout",
     "output_type": "stream",
     "text": [
      "cached!\n",
      "cached!\n",
      "cached!\n",
      "cached!\n",
      "cached!\n",
      "cached!\n",
      "cached!\n",
      "cached!\n"
     ]
    },
    {
     "name": "stderr",
     "output_type": "stream",
     "text": [
      "\n",
      "100%|██████████| 11/11 [00:00<00:00, 7505.67it/s]"
     ]
    },
    {
     "name": "stdout",
     "output_type": "stream",
     "text": [
      "cached!\n",
      "cached!\n",
      "cached!\n",
      "cached!\n",
      "cached!\n",
      "cached!\n",
      "cached!\n",
      "cached!\n"
     ]
    },
    {
     "name": "stderr",
     "output_type": "stream",
     "text": [
      "\n",
      "100%|██████████| 11/11 [00:00<00:00, 6463.62it/s]"
     ]
    },
    {
     "name": "stdout",
     "output_type": "stream",
     "text": [
      "cached!\n",
      "cached!\n",
      "cached!\n",
      "cached!\n",
      "cached!\n",
      "cached!\n",
      "cached!\n",
      "cached!\n",
      "cached!\n"
     ]
    },
    {
     "name": "stderr",
     "output_type": "stream",
     "text": [
      "\n",
      "100%|██████████| 11/11 [00:00<00:00, 6248.29it/s]\n"
     ]
    },
    {
     "name": "stdout",
     "output_type": "stream",
     "text": [
      "cached!\n",
      "cached!\n",
      "cached!\n",
      "cached!\n",
      "cached!\n",
      "cached!\n",
      "cached!\n",
      "cached!\n",
      "cached!\n"
     ]
    },
    {
     "name": "stderr",
     "output_type": "stream",
     "text": [
      "100%|██████████| 11/11 [00:00<00:00, 5837.95it/s]\n"
     ]
    },
    {
     "name": "stdout",
     "output_type": "stream",
     "text": [
      "cached!\n",
      "cached!\n",
      "cached!\n",
      "cached!\n",
      "cached!\n",
      "cached!\n",
      "cached!\n",
      "cached!\n",
      "cached!\n"
     ]
    },
    {
     "name": "stderr",
     "output_type": "stream",
     "text": []
    },
    {
     "name": "stdout",
     "output_type": "stream",
     "text": [
      "cached!\n"
     ]
    },
    {
     "name": "stderr",
     "output_type": "stream",
     "text": [
      "100%|██████████| 11/11 [00:00<00:00, 4544.66it/s]"
     ]
    },
    {
     "name": "stdout",
     "output_type": "stream",
     "text": [
      "cached!\n",
      "cached!\n",
      "cached!\n",
      "cached!\n",
      "cached!\n",
      "cached!\n",
      "cached!\n",
      "cached!\n",
      "cached!\n"
     ]
    },
    {
     "name": "stderr",
     "output_type": "stream",
     "text": [
      "\n",
      "100%|██████████| 11/11 [00:00<00:00, 7449.92it/s]"
     ]
    },
    {
     "name": "stdout",
     "output_type": "stream",
     "text": [
      "cached!\n",
      "cached!\n",
      "cached!\n",
      "cached!\n",
      "cached!\n",
      "cached!\n",
      "cached!\n",
      "cached!\n"
     ]
    },
    {
     "name": "stderr",
     "output_type": "stream",
     "text": [
      "\n"
     ]
    },
    {
     "name": "stdout",
     "output_type": "stream",
     "text": [
      "cached!\n",
      "cached!\n"
     ]
    },
    {
     "name": "stderr",
     "output_type": "stream",
     "text": [
      "100%|██████████| 11/11 [00:00<00:00, 4206.92it/s]\n"
     ]
    },
    {
     "name": "stdout",
     "output_type": "stream",
     "text": [
      "cached!\n",
      "cached!\n",
      "cached!\n",
      "cached!\n",
      "cached!\n",
      "cached!\n",
      "cached!\n",
      "cached!\n"
     ]
    },
    {
     "name": "stderr",
     "output_type": "stream",
     "text": []
    },
    {
     "name": "stdout",
     "output_type": "stream",
     "text": [
      "cached!\n",
      "cached!\n"
     ]
    },
    {
     "name": "stderr",
     "output_type": "stream",
     "text": [
      "100%|██████████| 11/11 [00:00<00:00, 3859.25it/s]\n",
      " 48%|████▊     | 22/46 [00:00<00:00, 219.61it/s]"
     ]
    },
    {
     "name": "stdout",
     "output_type": "stream",
     "text": [
      "cached!\n",
      "cached!\n",
      "cached!\n",
      "cached!\n",
      "cached!\n",
      "cached!\n",
      "cached!\n",
      "cached!\n"
     ]
    },
    {
     "name": "stderr",
     "output_type": "stream",
     "text": [
      "100%|██████████| 11/11 [00:00<00:00, 6947.35it/s]\n"
     ]
    },
    {
     "name": "stdout",
     "output_type": "stream",
     "text": [
      "cached!\n",
      "cached!\n",
      "cached!\n",
      "cached!\n",
      "cached!\n",
      "cached!\n",
      "cached!\n",
      "cached!\n",
      "cached!\n"
     ]
    },
    {
     "name": "stderr",
     "output_type": "stream",
     "text": []
    },
    {
     "name": "stdout",
     "output_type": "stream",
     "text": [
      "cached!\n"
     ]
    },
    {
     "name": "stderr",
     "output_type": "stream",
     "text": [
      "100%|██████████| 11/11 [00:00<00:00, 4978.67it/s]\n"
     ]
    },
    {
     "name": "stdout",
     "output_type": "stream",
     "text": [
      "cached!\n",
      "cached!\n",
      "cached!\n",
      "cached!\n",
      "cached!\n",
      "cached!\n",
      "cached!\n"
     ]
    },
    {
     "name": "stderr",
     "output_type": "stream",
     "text": [
      "100%|██████████| 11/11 [00:00<00:00, 6066.71it/s]\n"
     ]
    },
    {
     "name": "stdout",
     "output_type": "stream",
     "text": [
      "cached!\n",
      "cached!\n",
      "cached!\n",
      "cached!\n",
      "cached!\n",
      "cached!\n",
      "cached!\n",
      "cached!\n",
      "cached!\n"
     ]
    },
    {
     "name": "stderr",
     "output_type": "stream",
     "text": []
    },
    {
     "name": "stdout",
     "output_type": "stream",
     "text": [
      "cached!\n"
     ]
    },
    {
     "name": "stderr",
     "output_type": "stream",
     "text": [
      "100%|██████████| 11/11 [00:00<00:00, 5129.22it/s]\n"
     ]
    },
    {
     "name": "stdout",
     "output_type": "stream",
     "text": [
      "cached!\n",
      "cached!\n",
      "cached!\n",
      "cached!\n",
      "cached!\n",
      "cached!\n",
      "cached!\n"
     ]
    },
    {
     "name": "stderr",
     "output_type": "stream",
     "text": [
      "100%|██████████| 11/11 [00:00<00:00, 6132.84it/s]\n"
     ]
    },
    {
     "name": "stdout",
     "output_type": "stream",
     "text": [
      "cached!\n",
      "cached!\n",
      "cached!\n",
      "cached!\n",
      "cached!\n",
      "cached!\n",
      "cached!\n",
      "cached!\n"
     ]
    },
    {
     "name": "stderr",
     "output_type": "stream",
     "text": []
    },
    {
     "name": "stdout",
     "output_type": "stream",
     "text": [
      "cached!\n"
     ]
    },
    {
     "name": "stderr",
     "output_type": "stream",
     "text": [
      "100%|██████████| 11/11 [00:00<00:00, 5084.00it/s]\n"
     ]
    },
    {
     "name": "stdout",
     "output_type": "stream",
     "text": [
      "cached!\n",
      "cached!\n",
      "cached!\n",
      "cached!\n",
      "cached!\n",
      "cached!\n",
      "cached!\n"
     ]
    },
    {
     "name": "stderr",
     "output_type": "stream",
     "text": []
    },
    {
     "name": "stdout",
     "output_type": "stream",
     "text": [
      "cached!\n"
     ]
    },
    {
     "name": "stderr",
     "output_type": "stream",
     "text": [
      "100%|██████████| 11/11 [00:00<00:00, 4568.96it/s]\n"
     ]
    },
    {
     "name": "stdout",
     "output_type": "stream",
     "text": [
      "cached!\n",
      "cached!\n",
      "cached!\n",
      "cached!\n",
      "cached!\n",
      "cached!\n",
      "cached!\n",
      "cached!\n",
      "cached!\n"
     ]
    },
    {
     "name": "stderr",
     "output_type": "stream",
     "text": []
    },
    {
     "name": "stdout",
     "output_type": "stream",
     "text": [
      "cached!\n"
     ]
    },
    {
     "name": "stderr",
     "output_type": "stream",
     "text": [
      "100%|██████████| 11/11 [00:00<00:00, 4552.28it/s]\n"
     ]
    },
    {
     "name": "stdout",
     "output_type": "stream",
     "text": [
      "cached!\n",
      "cached!\n",
      "cached!\n",
      "cached!\n",
      "cached!\n",
      "cached!\n",
      "cached!\n",
      "cached!\n",
      "cached!\n"
     ]
    },
    {
     "name": "stderr",
     "output_type": "stream",
     "text": []
    },
    {
     "name": "stdout",
     "output_type": "stream",
     "text": [
      "cached!\n"
     ]
    },
    {
     "name": "stderr",
     "output_type": "stream",
     "text": [
      "100%|██████████| 11/11 [00:00<00:00, 4877.61it/s]\n"
     ]
    },
    {
     "name": "stdout",
     "output_type": "stream",
     "text": [
      "cached!\n",
      "cached!\n",
      "cached!\n",
      "cached!\n",
      "cached!\n",
      "cached!\n",
      "cached!\n",
      "cached!\n"
     ]
    },
    {
     "name": "stderr",
     "output_type": "stream",
     "text": [
      "100%|██████████| 11/11 [00:00<00:00, 6769.97it/s]\n"
     ]
    },
    {
     "name": "stdout",
     "output_type": "stream",
     "text": [
      "cached!\n",
      "cached!\n",
      "cached!\n",
      "cached!\n",
      "cached!\n",
      "cached!\n",
      "cached!\n"
     ]
    },
    {
     "name": "stderr",
     "output_type": "stream",
     "text": [
      "100%|██████████| 11/11 [00:00<00:00, 6723.60it/s]\n"
     ]
    },
    {
     "name": "stdout",
     "output_type": "stream",
     "text": [
      "cached!\n",
      "cached!\n",
      "cached!\n",
      "cached!\n",
      "cached!\n",
      "cached!\n",
      "cached!\n"
     ]
    },
    {
     "name": "stderr",
     "output_type": "stream",
     "text": [
      "100%|██████████| 11/11 [00:00<00:00, 6141.00it/s]\n"
     ]
    },
    {
     "name": "stdout",
     "output_type": "stream",
     "text": [
      "cached!\n",
      "cached!\n",
      "cached!\n",
      "cached!\n",
      "cached!\n",
      "cached!\n",
      "cached!\n",
      "cached!\n",
      "cached!\n"
     ]
    },
    {
     "name": "stderr",
     "output_type": "stream",
     "text": [
      "100%|██████████| 11/11 [00:00<00:00, 6289.17it/s]\n"
     ]
    },
    {
     "name": "stdout",
     "output_type": "stream",
     "text": [
      "cached!\n",
      "cached!\n",
      "cached!\n",
      "cached!\n",
      "cached!\n",
      "cached!\n",
      "cached!\n",
      "cached!\n"
     ]
    },
    {
     "name": "stderr",
     "output_type": "stream",
     "text": [
      "100%|██████████| 11/11 [00:00<00:00, 5953.21it/s]\n"
     ]
    },
    {
     "name": "stdout",
     "output_type": "stream",
     "text": [
      "cached!\n",
      "cached!\n",
      "cached!\n",
      "cached!\n",
      "cached!\n",
      "cached!\n",
      "cached!\n",
      "cached!\n",
      "cached!\n"
     ]
    },
    {
     "name": "stderr",
     "output_type": "stream",
     "text": [
      "100%|██████████| 11/11 [00:00<00:00, 5364.18it/s]\n"
     ]
    },
    {
     "name": "stdout",
     "output_type": "stream",
     "text": [
      "cached!\n",
      "cached!\n",
      "cached!\n",
      "cached!\n",
      "cached!\n",
      "cached!\n",
      "cached!\n",
      "cached!\n",
      "cached!\n",
      "cached!\n"
     ]
    },
    {
     "name": "stderr",
     "output_type": "stream",
     "text": [
      "100%|██████████| 11/11 [00:00<00:00, 5954.74it/s]\n"
     ]
    },
    {
     "name": "stdout",
     "output_type": "stream",
     "text": [
      "cached!\n",
      "cached!\n",
      "cached!\n",
      "cached!\n",
      "cached!\n",
      "cached!\n",
      "cached!\n",
      "cached!\n",
      "cached!\n"
     ]
    },
    {
     "name": "stderr",
     "output_type": "stream",
     "text": []
    },
    {
     "name": "stdout",
     "output_type": "stream",
     "text": [
      "cached!\n"
     ]
    },
    {
     "name": "stderr",
     "output_type": "stream",
     "text": [
      "100%|██████████| 11/11 [00:00<00:00, 4675.45it/s]\n"
     ]
    },
    {
     "name": "stdout",
     "output_type": "stream",
     "text": [
      "cached!\n",
      "cached!\n",
      "cached!\n",
      "cached!\n",
      "cached!\n",
      "cached!\n",
      "cached!\n",
      "cached!\n"
     ]
    },
    {
     "name": "stderr",
     "output_type": "stream",
     "text": []
    },
    {
     "name": "stdout",
     "output_type": "stream",
     "text": [
      "cached!\n"
     ]
    },
    {
     "name": "stderr",
     "output_type": "stream",
     "text": [
      "100%|██████████| 11/11 [00:00<00:00, 4358.75it/s]\n"
     ]
    },
    {
     "name": "stdout",
     "output_type": "stream",
     "text": [
      "cached!\n",
      "cached!\n",
      "cached!\n",
      "cached!\n",
      "cached!\n",
      "cached!\n",
      "cached!\n",
      "cached!\n",
      "cached!\n"
     ]
    },
    {
     "name": "stderr",
     "output_type": "stream",
     "text": [
      "100%|██████████| 11/11 [00:00<00:00, 6067.51it/s]\n"
     ]
    },
    {
     "name": "stdout",
     "output_type": "stream",
     "text": [
      "cached!\n",
      "cached!\n",
      "cached!\n",
      "cached!\n",
      "cached!\n",
      "cached!\n",
      "cached!\n",
      "cached!\n",
      "cached!\n"
     ]
    },
    {
     "name": "stderr",
     "output_type": "stream",
     "text": [
      "100%|██████████| 11/11 [00:00<00:00, 5553.36it/s]\n"
     ]
    },
    {
     "name": "stdout",
     "output_type": "stream",
     "text": [
      "cached!\n",
      "cached!\n",
      "cached!\n",
      "cached!\n",
      "cached!\n",
      "cached!\n",
      "cached!\n",
      "cached!\n",
      "cached!\n",
      "cached!\n"
     ]
    },
    {
     "name": "stderr",
     "output_type": "stream",
     "text": [
      "100%|██████████| 11/11 [00:00<00:00, 5960.13it/s]\n"
     ]
    },
    {
     "name": "stdout",
     "output_type": "stream",
     "text": [
      "cached!\n",
      "cached!\n",
      "cached!\n",
      "cached!\n",
      "cached!\n",
      "cached!\n",
      "cached!\n",
      "cached!\n",
      "cached!\n",
      "cached!\n"
     ]
    },
    {
     "name": "stderr",
     "output_type": "stream",
     "text": [
      "100%|██████████| 11/11 [00:00<00:00, 6970.44it/s]"
     ]
    },
    {
     "name": "stdout",
     "output_type": "stream",
     "text": [
      "cached!\n",
      "cached!\n",
      "cached!\n",
      "cached!\n",
      "cached!\n",
      "cached!\n",
      "cached!\n"
     ]
    },
    {
     "name": "stderr",
     "output_type": "stream",
     "text": [
      "\n",
      "100%|██████████| 11/11 [00:00<00:00, 6844.29it/s]"
     ]
    },
    {
     "name": "stdout",
     "output_type": "stream",
     "text": [
      "cached!\n",
      "cached!\n",
      "cached!\n",
      "cached!\n",
      "cached!\n",
      "cached!\n",
      "cached!\n",
      "cached!\n",
      "cached!\n"
     ]
    },
    {
     "name": "stderr",
     "output_type": "stream",
     "text": [
      "\n",
      "100%|██████████| 11/11 [00:00<00:00, 7741.17it/s]\n",
      "100%|██████████| 46/46 [00:00<00:00, 216.59it/s]\n"
     ]
    },
    {
     "name": "stdout",
     "output_type": "stream",
     "text": [
      "cached!\n",
      "cached!\n",
      "cached!\n",
      "cached!\n",
      "cached!\n",
      "cached!\n",
      "cached!\n",
      "cached!\n"
     ]
    }
   ],
   "source": [
    "def run_sentiment(site, checkpoint, qs, responses_df, themes_df, llm=None):\n",
    "    sentiment_prompt = '''### You are given a question and a response. Rate the sentiment/supportiveness of the response on a scale of 1 to 5, where 1 is very negative and 5 is very positive. ###\n",
    "\n",
    "Question: {question}\n",
    "\n",
    "Response: {response}\n",
    "\n",
    "Rating (1-5):'''\n",
    "    if llm is None:\n",
    "        llm = imodelsx.llm.get_llm(checkpoint, repeat_delay=None)\n",
    "\n",
    "    num_questions = len(qs)\n",
    "    sentiments = defaultdict(list)\n",
    "    for question_num in tqdm(range(num_questions), position=0):\n",
    "        question, responses, theme_dict = data.get_data_for_question_single_site(\n",
    "            question_num=question_num, qs=qs, responses_df=responses_df, themes_df=themes_df)\n",
    "\n",
    "        for response_num in tqdm(range(len(responses)), position=1):\n",
    "            response = responses.values[response_num]\n",
    "\n",
    "            if pd.isna(response):\n",
    "                sentiments[question_num].append(np.nan)\n",
    "            else:\n",
    "                prompt = sentiment_prompt.format(\n",
    "                    question=question, response=response)\n",
    "                ans = llm(prompt)\n",
    "                sentiments[question_num].append(ans)\n",
    "\n",
    "    # save\n",
    "    pd.DataFrame(sentiments).T.to_pickle(\n",
    "        join(data.PROCESSED_DIR, f'sentiments_df_{site}_{checkpoint.split(\"/\")[-1]}.pkl'))\n",
    "    return sentiments\n",
    "\n",
    "\n",
    "def compute_and_save_sent_df(sentiments, site, checkpoint):\n",
    "\n",
    "    sent_df = pd.DataFrame([(key, var) for (key, L) in sentiments.items() for var in L],\n",
    "                           columns=['Question', 'Value'])\n",
    "\n",
    "    # round  values\n",
    "    sent_df['Value'] = sent_df['Value'].astype(float).round()\n",
    "    value_maps = {\n",
    "        1: 'Very Negative',\n",
    "        2: 'Negative',\n",
    "        3: 'Neutral',\n",
    "        4: 'Positive',\n",
    "        5: 'Very Positive',\n",
    "    }\n",
    "    sent_df['Value'] = sent_df['Value'].map(value_maps.get)\n",
    "    sent_df['Value'] = sent_df['Value'].fillna('No response')\n",
    "\n",
    "    sent_df = sent_df.groupby(\n",
    "        ['Question', 'Value']).size().unstack(fill_value=0)\n",
    "    sent_df = sent_df.reindex(LEVELS, axis=1)\n",
    "    if checkpoint == 'gpt-4':\n",
    "        joblib.dump(sent_df, join(data.PROCESSED_DIR,\n",
    "                    f'sent_df_{site}_gpt-4.pkl'))\n",
    "    return sent_df\n",
    "\n",
    "# run single\n",
    "# sentiments = run_sentiment(site, checkpoint, qs, responses_df, themes_df)\n",
    "\n",
    "\n",
    "# run all sites\n",
    "llm = imodelsx.llm.get_llm(checkpoint, repeat_delay=20)\n",
    "# ['Atlanta', 'Columbus', 'WashingtonDC']:\n",
    "# for site in ['Charlotte', 'Houston', 'Portland']:\n",
    "for site in ['Dallas', 'Seattle', 'Tucson']:\n",
    "    df = files_dict[site]\n",
    "    qs, responses_df, themes_df = data.split_single_site_df(df)\n",
    "    sentiments = run_sentiment(\n",
    "        site, checkpoint, qs, responses_df, themes_df, llm=llm)\n",
    "    sent_df = compute_and_save_sent_df(sentiments, site, checkpoint)"
   ]
  },
  {
   "cell_type": "markdown",
   "metadata": {},
   "source": [
    "### Plot sentiment"
   ]
  },
  {
   "cell_type": "code",
   "execution_count": 4,
   "metadata": {},
   "outputs": [
    {
     "data": {
      "image/png": "[encoded data removed]",
      "text/plain": [
       "<Figure size 500x1000 with 1 Axes>"
      ]
     },
     "metadata": {},
     "output_type": "display_data"
    }
   ],
   "source": [
    "# make plot\n",
    "sent_df = compute_and_save_sent_df(sentiments, site, checkpoint)\n",
    "sent_df = sent_df.sort_values(by=LEVELS, ascending=False)\n",
    "colors = sns.diverging_palette(20, 220, n=6).as_hex()\n",
    "colors = colors[:2] + ['#ddd', '#eee'] + colors[-2:]\n",
    "sent_df.plot(kind='barh', stacked=True, figsize=(5, 10), color=colors)\n",
    "\n",
    "plt.yticks(range(46), labels=df['Domain'].values[sent_df.index.values])\n",
    "plt.legend(bbox_to_anchor=(0.5, 1.1), loc='center', ncol=3, title='Sentiment')\n",
    "plt.xlabel('Answer count')\n",
    "plt.ylabel('Question number and domain')\n",
    "plt.title(site)\n",
    "plt.savefig(f'../figs/eda/sentiment_example_{site}.pdf', bbox_inches='tight')\n",
    "plt.show()"
   ]
  },
  {
   "cell_type": "markdown",
   "metadata": {},
   "source": [
    "### Aggregate sentiment plots"
   ]
  },
  {
   "cell_type": "code",
   "execution_count": 5,
   "metadata": {},
   "outputs": [
    {
     "data": {
      "image/png": "[encoded data removed]",
      "text/plain": [
       "<Figure size 1200x1000 with 4 Axes>"
      ]
     },
     "metadata": {},
     "output_type": "display_data"
    }
   ],
   "source": [
    "sent_dfs = []\n",
    "#\n",
    "sites = ['Atlanta', 'Columbus', 'WashingtonDC'] + \\\n",
    "    ['Charlotte', 'Houston', 'Portland'] + \\\n",
    "    ['Dallas', 'Seattle', 'Tucson']\n",
    "for site in sites:\n",
    "    sent_df = joblib.load(\n",
    "        join(data.PROCESSED_DIR, f'sent_df_{site}_gpt-4.pkl'))\n",
    "    # sent_df = sent_df.sort_values(by=levels, ascending=False)\n",
    "    sent_dfs.append(sent_df)\n",
    "\n",
    "sum_df = pd.concat(sent_dfs).groupby(level=0).sum()\n",
    "\n",
    "# make plot\n",
    "# sum_df = sum_df.sort_values(by=LEVELS, ascending=False)\n",
    "# sum_index_sorted = sum_df.index\n",
    "mean = -2 * sum_df['Very Negative'] + -1 * sum_df['Negative'] + \\\n",
    "    1 * sum_df['Positive'] + 2 * sum_df['Very Positive']\n",
    "sum_index_sorted = mean.sort_values().index\n",
    "sum_df = sum_df.reindex(sum_index_sorted)\n",
    "\n",
    "colors = sns.diverging_palette(20, 220, n=6).as_hex()\n",
    "colors = colors[:2] + ['#ddd', '#eee'] + colors[-2:]\n",
    "\n",
    "fig = plt.figure(figsize=(12, 10))\n",
    "gs = GridSpec(1, 4, width_ratios=[2, 1, 1, 1], wspace=0.025)\n",
    "\n",
    "\n",
    "# first plot\n",
    "ax1 = fig.add_subplot(gs[0])\n",
    "sum_df.plot(kind='barh', stacked=True, color=colors, ax=ax1, legend=False)\n",
    "plt.xlim(0, sum_df.sum(axis=1).max())\n",
    "# remove label for final xtick\n",
    "labels = [str(i) if i % 10 == 0 else '' for i in range(\n",
    "    0, int(sum_df.sum(axis=1).max()) + 1, 10)]\n",
    "labels[-1] = ''\n",
    "plt.xticks(range(0, int(sum_df.sum(axis=1).max()) + 1, 10),\n",
    "           labels=labels)\n",
    "plt.yticks(range(46),\n",
    "           labels=[f'{len(sent_df) - i}. {v}' for i, v in enumerate(\n",
    "               df['Domain'].values[sum_df.index.values])])\n",
    "fig.legend(bbox_to_anchor=(0.5, 0.95), loc='center', ncol=3, title='Sentiment')\n",
    "plt.xlabel('Answer count')\n",
    "plt.title('All sites', fontweight='bold')\n",
    "plt.ylabel('Question number and domain')\n",
    "\n",
    "sites_examples = ['Atlanta', 'Columbus', 'WashingtonDC']\n",
    "for i, site in enumerate(sites_examples):\n",
    "    ax = fig.add_subplot(gs[i+1])\n",
    "    sent_df = sent_dfs[i]\n",
    "    sent_df = sent_df.reindex(sum_index_sorted)\n",
    "    sent_df.plot(kind='barh', stacked=True, color=colors, ax=ax, legend=False)\n",
    "    plt.xlim(0, sent_df.sum(axis=1).max())\n",
    "    plt.yticks([])\n",
    "    plt.ylabel('')\n",
    "    plt.title(data.RENAME_SITE_DICT.get(site, site))\n",
    "plt.savefig(f'../figs/sentiment_agg.pdf', bbox_inches='tight')\n",
    "plt.savefig(f'../figs/sentiment_agg.png', bbox_inches='tight', dpi=300)\n",
    "plt.show()"
   ]
  },
  {
   "cell_type": "code",
   "execution_count": 6,
   "metadata": {},
   "outputs": [
    {
     "data": {
      "text/plain": [
       "25"
      ]
     },
     "execution_count": 6,
     "metadata": {},
     "output_type": "execute_result"
    }
   ],
   "source": [
    "len(df['Domain'].value_counts())"
   ]
  },
  {
   "cell_type": "code",
   "execution_count": 7,
   "metadata": {},
   "outputs": [
    {
     "name": "stdout",
     "output_type": "stream",
     "text": [
      "3692 responses 1000 no response\n",
      "breakdown Value\n",
      "Very Negative     104\n",
      "Negative          482\n",
      "Neutral          1207\n",
      "No response      1000\n",
      "Positive         1191\n",
      "Very Positive     708\n",
      "dtype: int64 Value\n",
      "Very Negative     3.0\n",
      "Negative         13.0\n",
      "Neutral          33.0\n",
      "No response      27.0\n",
      "Positive         32.0\n",
      "Very Positive    19.0\n",
      "dtype: float64\n"
     ]
    }
   ],
   "source": [
    "total_responded = sum_df.sum().sum() - sum_df['No response'].sum().sum()\n",
    "print(total_responded, 'responses', sum_df['No response'].sum(), 'no response')\n",
    "print('breakdown', sum_df.sum(), round((100 * sum_df.sum() / total_responded)))"
   ]
  },
  {
   "cell_type": "code",
   "execution_count": 8,
   "metadata": {},
   "outputs": [],
   "source": [
    "# no limit display\n",
    "with pd.option_context('display.max_rows', None, 'display.max_colwidth', None):\n",
    "    d = df.iloc[sum_index_sorted][::-1][['Domain', 'Subcategory']]\n",
    "    d['Question order'] = d.index\n",
    "    d.insert(loc=0, column='Question number', value=np.arange(1, len(d) + 1))\n",
    "    # display(d)\n",
    "    d.to_csv('../figs/question_list.csv', index=False)"
   ]
  },
  {
   "cell_type": "markdown",
   "metadata": {},
   "source": [
    "# Human annotation"
   ]
  },
  {
   "cell_type": "markdown",
   "metadata": {},
   "source": [
    "**Select questions**"
   ]
  },
  {
   "cell_type": "code",
   "execution_count": 18,
   "metadata": {},
   "outputs": [],
   "source": [
    "# # original function filter 10 questions that have many themes (these tend to be more interesting)\n",
    "# # select questions\n",
    "# def get_num_themes(df):\n",
    "#     num_themes_list = []\n",
    "#     for question_num in range(len(df)):\n",
    "#         question, responses, theme_dict = data.get_data_for_question_single_site(\n",
    "#             question_num=question_num, qs=qs, responses_df=responses_df, themes_df=themes_df)\n",
    "#         num_themes_list.append(len(theme_dict))\n",
    "#     return np.array(num_themes_list)\n",
    "#     # df['num_themes'] = num_themes_list\n",
    "#     # return df\n",
    "\n",
    "\n",
    "# num_themes = np.zeros(46)\n",
    "# SITES = ['Atlanta', 'Columbus', 'WashingtonDC']\n",
    "# for site in sites:\n",
    "#     df = files_dict[site]\n",
    "#     num_themes += get_num_themes(df)\n",
    "# idx = pd.Series(num_themes).sort_values(ascending=False)\n",
    "# questions_selected = idx.index[:10]\n",
    "\n",
    "# instead pick 3 most positive, 3 middle, and 3 most negative\n",
    "mid = 46 // 2\n",
    "sorted_qs = list(sum_index_sorted)\n",
    "questions_selected = sorted_qs[:3] + sorted_qs[mid-1:mid+2] + sorted_qs[-3:]\n",
    "\n",
    "# save these questions\n",
    "pd.Series(questions_selected).to_csv(\n",
    "    '../figs/human/sentiment_questions_selected.csv', index=False, header=False)"
   ]
  },
  {
   "cell_type": "markdown",
   "metadata": {},
   "source": [
    "**Select random answers to questions (up to 15 per question)**"
   ]
  },
  {
   "cell_type": "code",
   "execution_count": 10,
   "metadata": {},
   "outputs": [
    {
     "name": "stderr",
     "output_type": "stream",
     "text": [
      "/home/chansingh/pedidose-efic-analysis/notebooks/data.py:92: FutureWarning: Series.__getitem__ treating keys as positions is deprecated. In a future version, integer keys will always be treated as labels (consistent with DataFrame behavior). To access a value by position, use `ser.iloc[pos]`\n",
      "  resp = responses[i]\n"
     ]
    }
   ],
   "source": [
    "# read in responses from all sites\n",
    "resps_dict = defaultdict(list)\n",
    "for question_num in questions_selected:\n",
    "    for site in ['Atlanta', 'Columbus', 'WashingtonDC']:\n",
    "        df = files_dict[site]\n",
    "        question, responses, theme_dict = data.get_data_for_question_single_site(\n",
    "            question_num=question_num, qs=qs, responses_df=responses_df, themes_df=themes_df)\n",
    "        resps_dict[question_num] += list(responses)\n",
    "assert np.all(np.array(list(len(v) for v in resps_dict.values())) == 33)\n",
    "\n",
    "\n",
    "# randomly select up to 15 non-nan responses for each question and record their indices (less if there are fewer than 15)\n",
    "rng = np.random.default_rng(13)\n",
    "resps_idx_selected = defaultdict(list)\n",
    "resps_selected = {}\n",
    "for question_num in questions_selected:\n",
    "    resps = resps_dict[question_num]\n",
    "    indices = np.arange(33)[~pd.isna(resps)]\n",
    "    indices_selected = rng.choice(\n",
    "        indices, size=min(len(indices), 15), replace=False).tolist()\n",
    "    resps_idx_selected[question_num] = indices_selected\n",
    "    resps_selected[question_num] = [resps[i] for i in indices_selected]\n",
    "\n",
    "# put into a big defaultdict\n",
    "dd = defaultdict(list)\n",
    "for question_num in questions_selected:\n",
    "    for i, resp in enumerate(resps_selected[question_num]):\n",
    "        dd['Question number'].append(question_num)\n",
    "        dd['Response number'].append(resps_idx_selected[question_num][i])\n",
    "\n",
    "        dd['Question'].append(qs[question_num])\n",
    "        dd['Response'].append(resp)\n",
    "\n",
    "# dump\n",
    "with open('../figs/human/sentiment_idx_selected.json', 'w') as f:\n",
    "    json.dump(resps_idx_selected, f, indent=4)\n",
    "ddf = pd.DataFrame.from_dict(dd)\n",
    "ddf.to_csv('../figs/human/sentiment_template.csv', index=False)\n",
    "ddf.to_pickle('../figs/human/sentiment_template.pkl')"
   ]
  },
  {
   "cell_type": "markdown",
   "metadata": {},
   "source": [
    "### Analyze human results"
   ]
  },
  {
   "cell_type": "code",
   "execution_count": 24,
   "metadata": {},
   "outputs": [],
   "source": [
    "annots = {\n",
    "    'hum1': 'human1',\n",
    "    'hum2': 'human2',\n",
    "    'hum3': 'human3',\n",
    "}\n",
    "\n",
    "# template = pd.read_pickle('../figs/human/sentiment_template.pkl')\n",
    "template = pd.read_csv('../figs/human/sentiment_template.csv')\n",
    "for k, v in annots.items():\n",
    "    hum = pd.read_csv(f'../figs/human/collected/sentiment_{v}.csv', skiprows=1)\n",
    "\n",
    "    def remove_all_whitespace(s):\n",
    "        return ''.join(s.split())\n",
    "\n",
    "    # check for matching index, value range\n",
    "    assert hum.shape[0] == template.shape[\n",
    "        0], f'Shape mismatch for {k}: {hum.shape[0]} vs {template.shape[0]}'\n",
    "    assert np.all(hum['Response number'].astype(str).apply(remove_all_whitespace).values ==\n",
    "                  template['Response number'].astype(str).apply(remove_all_whitespace).values), f'Error for hum {k}'\n",
    "\n",
    "    # add col\n",
    "    template[k] = hum['Rating'].values.astype(int)\n",
    "    assert np.all(template[k].values >= 1)\n",
    "    assert np.all(template[k].values <= 5)\n",
    "\n",
    "checkpoints_all = [\n",
    "    'gpt-4', 'gpt-35-turbo',\n",
    "    'meta-llama/Llama-2-70b-hf',\n",
    "    'meta-llama/Llama-2-7b-hf',\n",
    "    'mistralai/Mistral-7B-v0.1',  # 'mistralai/Mixtral-8x7B-v0.1'\n",
    "]\n",
    "\n",
    "\n",
    "def find_starting_number(s):\n",
    "    # if s starts with a number or a number with decimal places, return that number\n",
    "    # otherwise return nan\n",
    "    s = str(s).strip()\n",
    "    if s == 'nan':\n",
    "        return np.nan\n",
    "    ans = ''\n",
    "    while len(s) > 0 and (s[0].isdigit() or s[0] == '.'):\n",
    "        ans += s[0]\n",
    "        s = s[1:]\n",
    "    return float(ans) if len(ans) > 0 else np.nan\n",
    "\n",
    "\n",
    "for checkpoint in checkpoints_all:\n",
    "    sites = ['Atlanta', 'Columbus', 'WashingtonDC']\n",
    "    sent_dfs = []\n",
    "    for site in sites:\n",
    "        sent_df = joblib.load(join(\n",
    "            data.PROCESSED_DIR, f'sentiments_df_{site}_{checkpoint.split(\"/\")[-1]}.pkl'))\n",
    "        sent_dfs.append(sent_df)\n",
    "\n",
    "    sent_dfs[0].columns = np.arange(0, 11)\n",
    "    sent_dfs[1].columns = np.arange(11, 22)\n",
    "    sent_dfs[2].columns = np.arange(22, 33)\n",
    "    sent_llm_full = pd.concat(sent_dfs, axis=1).values\n",
    "    template[checkpoint] = template.apply(\n",
    "        lambda row: sent_llm_full[row['Question number'], row['Response number']], axis=1)\n",
    "    template[checkpoint] = template[checkpoint].apply(find_starting_number)\n",
    "llms_to_ensemble = ['gpt-4', 'gpt-35-turbo',\n",
    "                    'mistralai/Mistral-7B-v0.1',  # 'meta-llama/Llama-2-70b-hf',\n",
    "                    # 'mistralai/Mixtral-8x7B-v0.1',\n",
    "                    ]\n",
    "\n",
    "template['Human ensemble'] = template[['hum1', 'hum2', 'hum3']].mean(axis=1)\n",
    "template = template.rename(columns={\n",
    "    'hum1': 'Human 1',\n",
    "    'hum2': 'Human 2',\n",
    "    'hum3': 'Human 3',\n",
    "})\n",
    "\n",
    "\n",
    "template.columns = list(map(lambda x: imodelsx.viz.CHECKPOINTS_RENAME_DICT.get(\n",
    "    x, x), template.columns))\n",
    "checkpoints_all = list(map(lambda x: imodelsx.viz.CHECKPOINTS_RENAME_DICT.get(\n",
    "    x, x), checkpoints_all))\n",
    "llms_to_ensemble = list(map(lambda x: imodelsx.viz.CHECKPOINTS_RENAME_DICT.get(\n",
    "    x, x), llms_to_ensemble))\n",
    "template['LLM ensemble'] = template[llms_to_ensemble].mean(axis=1)"
   ]
  },
  {
   "cell_type": "code",
   "execution_count": 25,
   "metadata": {},
   "outputs": [
    {
     "name": "stdout",
     "output_type": "stream",
     "text": [
      "num annots 105\n",
      "['Human 1', 'Human 2', 'Human 3', 'Human ensemble', 'LLM ensemble', 'GPT-4', 'GPT-3.5 Turbo', 'LLAMA-2 (70B)', 'LLAMA-2 (7B)', 'Mistral (7B)'] (10, 10)\n"
     ]
    }
   ],
   "source": [
    "# make sure to apply this across all llms\n",
    "notna = np.ones(len(template), dtype=bool)\n",
    "for ckpt in checkpoints_all:\n",
    "    notna &= template[ckpt].apply(find_starting_number).notna()\n",
    "print('num annots', notna.sum())\n",
    "\n",
    "checkpoints_all_hum = ['Human 1', 'Human 2', 'Human 3', 'Human ensemble'] + \\\n",
    "    ['LLM ensemble'] + checkpoints_all\n",
    "corr = np.zeros((len(checkpoints_all_hum), len(checkpoints_all_hum)))\n",
    "for r, cr in enumerate(checkpoints_all_hum):\n",
    "    for c, cc in enumerate(checkpoints_all_hum):\n",
    "        x = template[cr][notna]\n",
    "        y = template[cc][notna]\n",
    "        corr[r, c] = np.corrcoef(x, y)[0, 1]  # spearmanr(x, y)\n",
    "\n",
    "# convert to df\n",
    "\n",
    "# labels[0] = 'Human 1'\n",
    "# labels[1] = 'Human 2'\n",
    "# labels[2] = 'Human 3'\n",
    "labels = checkpoints_all_hum\n",
    "print(labels, corr.shape)\n",
    "corr_df = pd.DataFrame(corr,\n",
    "                       index=labels,\n",
    "                       columns=labels)\n",
    "\n",
    "# sort by corr with human\n",
    "ind = corr_df.sort_values(by='Human ensemble', ascending=False).index\n",
    "ind.values[:4] = ['Human 1', 'Human 2', 'Human 3', 'Human ensemble']\n",
    "corr_df = corr_df.reindex(ind)[ind]\n",
    "\n",
    "# Replace correlations with Human ensemble by excluding the human\n",
    "cols = ['Human 1', 'Human 2', 'Human 3']\n",
    "hum_corrs = []\n",
    "for i, c in enumerate(cols):\n",
    "    avg_excluding_c = template[[col for col in cols if col != c]].mean(axis=1)\n",
    "    hum_corrs.append(np.corrcoef(\n",
    "        template[c][notna], avg_excluding_c[notna])[0, 1])\n",
    "# print(hum_corrs)\n",
    "corr_df.loc[cols, 'Human ensemble'] = hum_corrs\n",
    "corr_df.loc['Human ensemble', cols] = hum_corrs\n",
    "\n",
    "# Replace correlations with LLM ensemble by excluding the LLM\n",
    "cols = list(map(lambda x: imodelsx.viz.CHECKPOINTS_RENAME_DICT.get(\n",
    "    x, x), llms_to_ensemble))\n",
    "llm_corrs = []\n",
    "for i, c in enumerate(cols):\n",
    "    avg_excluding_c = template[[col for col in cols if col != c]].mean(axis=1)\n",
    "    llm_corrs.append(np.corrcoef(\n",
    "        template[c][notna], avg_excluding_c[notna])[0, 1])\n",
    "# print(llm_corrs)\n",
    "corr_df.loc[cols, 'LLM ensemble'] = llm_corrs\n",
    "corr_df.loc['LLM ensemble', cols] = llm_corrs"
   ]
  },
  {
   "cell_type": "code",
   "execution_count": 26,
   "metadata": {},
   "outputs": [
    {
     "data": {
      "text/html": [
       "<div>\n",
       "<style scoped>\n",
       "    .dataframe tbody tr th:only-of-type {\n",
       "        vertical-align: middle;\n",
       "    }\n",
       "\n",
       "    .dataframe tbody tr th {\n",
       "        vertical-align: top;\n",
       "    }\n",
       "\n",
       "    .dataframe thead th {\n",
       "        text-align: right;\n",
       "    }\n",
       "</style>\n",
       "<table border=\"1\" class=\"dataframe\">\n",
       "  <thead>\n",
       "    <tr style=\"text-align: right;\">\n",
       "      <th></th>\n",
       "      <th>Human 1</th>\n",
       "      <th>Human 2</th>\n",
       "      <th>Human 3</th>\n",
       "      <th>Human ensemble</th>\n",
       "      <th>LLM ensemble</th>\n",
       "      <th>Mistral (7B)</th>\n",
       "      <th>GPT-3.5 Turbo</th>\n",
       "      <th>GPT-4</th>\n",
       "      <th>LLAMA-2 (70B)</th>\n",
       "      <th>LLAMA-2 (7B)</th>\n",
       "    </tr>\n",
       "  </thead>\n",
       "  <tbody>\n",
       "    <tr>\n",
       "      <th>Human 1</th>\n",
       "      <td>1.000000</td>\n",
       "      <td>0.813302</td>\n",
       "      <td>0.850014</td>\n",
       "      <td>0.845929</td>\n",
       "      <td>0.674831</td>\n",
       "      <td>0.628237</td>\n",
       "      <td>0.629419</td>\n",
       "      <td>0.666271</td>\n",
       "      <td>0.611110</td>\n",
       "      <td>0.390150</td>\n",
       "    </tr>\n",
       "    <tr>\n",
       "      <th>Human 2</th>\n",
       "      <td>0.813302</td>\n",
       "      <td>1.000000</td>\n",
       "      <td>0.935228</td>\n",
       "      <td>0.915878</td>\n",
       "      <td>0.753336</td>\n",
       "      <td>0.720208</td>\n",
       "      <td>0.728837</td>\n",
       "      <td>0.700558</td>\n",
       "      <td>0.545697</td>\n",
       "      <td>0.587531</td>\n",
       "    </tr>\n",
       "    <tr>\n",
       "      <th>Human 3</th>\n",
       "      <td>0.850014</td>\n",
       "      <td>0.935228</td>\n",
       "      <td>1.000000</td>\n",
       "      <td>0.941113</td>\n",
       "      <td>0.694328</td>\n",
       "      <td>0.685594</td>\n",
       "      <td>0.671014</td>\n",
       "      <td>0.622333</td>\n",
       "      <td>0.479559</td>\n",
       "      <td>0.499455</td>\n",
       "    </tr>\n",
       "    <tr>\n",
       "      <th>Human ensemble</th>\n",
       "      <td>0.845929</td>\n",
       "      <td>0.915878</td>\n",
       "      <td>0.941113</td>\n",
       "      <td>1.000000</td>\n",
       "      <td>0.741484</td>\n",
       "      <td>0.712082</td>\n",
       "      <td>0.710005</td>\n",
       "      <td>0.692323</td>\n",
       "      <td>0.565113</td>\n",
       "      <td>0.521138</td>\n",
       "    </tr>\n",
       "    <tr>\n",
       "      <th>LLM ensemble</th>\n",
       "      <td>0.674831</td>\n",
       "      <td>0.753336</td>\n",
       "      <td>0.694328</td>\n",
       "      <td>0.741484</td>\n",
       "      <td>1.000000</td>\n",
       "      <td>0.884074</td>\n",
       "      <td>0.897027</td>\n",
       "      <td>0.880430</td>\n",
       "      <td>0.761605</td>\n",
       "      <td>0.647003</td>\n",
       "    </tr>\n",
       "    <tr>\n",
       "      <th>Mistral (7B)</th>\n",
       "      <td>0.628237</td>\n",
       "      <td>0.720208</td>\n",
       "      <td>0.685594</td>\n",
       "      <td>0.712082</td>\n",
       "      <td>0.884074</td>\n",
       "      <td>1.000000</td>\n",
       "      <td>0.863246</td>\n",
       "      <td>0.843401</td>\n",
       "      <td>0.680759</td>\n",
       "      <td>0.595427</td>\n",
       "    </tr>\n",
       "    <tr>\n",
       "      <th>GPT-3.5 Turbo</th>\n",
       "      <td>0.629419</td>\n",
       "      <td>0.728837</td>\n",
       "      <td>0.671014</td>\n",
       "      <td>0.710005</td>\n",
       "      <td>0.897027</td>\n",
       "      <td>0.863246</td>\n",
       "      <td>1.000000</td>\n",
       "      <td>0.859109</td>\n",
       "      <td>0.696456</td>\n",
       "      <td>0.640929</td>\n",
       "    </tr>\n",
       "    <tr>\n",
       "      <th>GPT-4</th>\n",
       "      <td>0.666271</td>\n",
       "      <td>0.700558</td>\n",
       "      <td>0.622333</td>\n",
       "      <td>0.692323</td>\n",
       "      <td>0.880430</td>\n",
       "      <td>0.843401</td>\n",
       "      <td>0.859109</td>\n",
       "      <td>1.000000</td>\n",
       "      <td>0.794939</td>\n",
       "      <td>0.614289</td>\n",
       "    </tr>\n",
       "    <tr>\n",
       "      <th>LLAMA-2 (70B)</th>\n",
       "      <td>0.611110</td>\n",
       "      <td>0.545697</td>\n",
       "      <td>0.479559</td>\n",
       "      <td>0.565113</td>\n",
       "      <td>0.761605</td>\n",
       "      <td>0.680759</td>\n",
       "      <td>0.696456</td>\n",
       "      <td>0.794939</td>\n",
       "      <td>1.000000</td>\n",
       "      <td>0.492324</td>\n",
       "    </tr>\n",
       "    <tr>\n",
       "      <th>LLAMA-2 (7B)</th>\n",
       "      <td>0.390150</td>\n",
       "      <td>0.587531</td>\n",
       "      <td>0.499455</td>\n",
       "      <td>0.521138</td>\n",
       "      <td>0.647003</td>\n",
       "      <td>0.595427</td>\n",
       "      <td>0.640929</td>\n",
       "      <td>0.614289</td>\n",
       "      <td>0.492324</td>\n",
       "      <td>1.000000</td>\n",
       "    </tr>\n",
       "  </tbody>\n",
       "</table>\n",
       "</div>"
      ],
      "text/plain": [
       "                 Human 1   Human 2   Human 3  Human ensemble  LLM ensemble  \\\n",
       "Human 1         1.000000  0.813302  0.850014        0.845929      0.674831   \n",
       "Human 2         0.813302  1.000000  0.935228        0.915878      0.753336   \n",
       "Human 3         0.850014  0.935228  1.000000        0.941113      0.694328   \n",
       "Human ensemble  0.845929  0.915878  0.941113        1.000000      0.741484   \n",
       "LLM ensemble    0.674831  0.753336  0.694328        0.741484      1.000000   \n",
       "Mistral (7B)    0.628237  0.720208  0.685594        0.712082      0.884074   \n",
       "GPT-3.5 Turbo   0.629419  0.728837  0.671014        0.710005      0.897027   \n",
       "GPT-4           0.666271  0.700558  0.622333        0.692323      0.880430   \n",
       "LLAMA-2 (70B)   0.611110  0.545697  0.479559        0.565113      0.761605   \n",
       "LLAMA-2 (7B)    0.390150  0.587531  0.499455        0.521138      0.647003   \n",
       "\n",
       "                Mistral (7B)  GPT-3.5 Turbo     GPT-4  LLAMA-2 (70B)  \\\n",
       "Human 1             0.628237       0.629419  0.666271       0.611110   \n",
       "Human 2             0.720208       0.728837  0.700558       0.545697   \n",
       "Human 3             0.685594       0.671014  0.622333       0.479559   \n",
       "Human ensemble      0.712082       0.710005  0.692323       0.565113   \n",
       "LLM ensemble        0.884074       0.897027  0.880430       0.761605   \n",
       "Mistral (7B)        1.000000       0.863246  0.843401       0.680759   \n",
       "GPT-3.5 Turbo       0.863246       1.000000  0.859109       0.696456   \n",
       "GPT-4               0.843401       0.859109  1.000000       0.794939   \n",
       "LLAMA-2 (70B)       0.680759       0.696456  0.794939       1.000000   \n",
       "LLAMA-2 (7B)        0.595427       0.640929  0.614289       0.492324   \n",
       "\n",
       "                LLAMA-2 (7B)  \n",
       "Human 1             0.390150  \n",
       "Human 2             0.587531  \n",
       "Human 3             0.499455  \n",
       "Human ensemble      0.521138  \n",
       "LLM ensemble        0.647003  \n",
       "Mistral (7B)        0.595427  \n",
       "GPT-3.5 Turbo       0.640929  \n",
       "GPT-4               0.614289  \n",
       "LLAMA-2 (70B)       0.492324  \n",
       "LLAMA-2 (7B)        1.000000  "
      ]
     },
     "execution_count": 26,
     "metadata": {},
     "output_type": "execute_result"
    }
   ],
   "source": [
    "corr_df"
   ]
  },
  {
   "cell_type": "code",
   "execution_count": 27,
   "metadata": {},
   "outputs": [
    {
     "name": "stdout",
     "output_type": "stream",
     "text": [
      "interval human-LLM (0.6497397813107971, 0.8119369043715575)\n",
      "interval annotators 0.8661813333333334 (0.8139632397582225, 0.904514021486069)\n"
     ]
    }
   ],
   "source": [
    "def r_confidence_interval(r, alpha, n):\n",
    "    def _r_to_z(r):\n",
    "        return math.log((1 + r) / (1 - r)) / 2.0\n",
    "\n",
    "    def _z_to_r(z):\n",
    "        e = math.exp(2 * z)\n",
    "        return ((e - 1) / (e + 1))\n",
    "\n",
    "    z = _r_to_z(r)\n",
    "    se = 1.0 / math.sqrt(n - 3)\n",
    "    z_crit = scipy.stats.norm.ppf(1 - alpha/2)  # 2-tailed z critical value\n",
    "\n",
    "    lo = z - z_crit * se\n",
    "    hi = z + z_crit * se\n",
    "\n",
    "    # Return a sequence\n",
    "    return (_z_to_r(lo), _z_to_r(hi))\n",
    "\n",
    "\n",
    "print('interval human-LLM', r_confidence_interval(0.741484, 0.05, 123))\n",
    "print('interval annotators', np.mean([0.813302, 0.850014, 0.935228]), r_confidence_interval(\n",
    "    np.mean([0.813302, 0.850014, 0.935228]), 0.05, 123))"
   ]
  },
  {
   "cell_type": "code",
   "execution_count": 28,
   "metadata": {},
   "outputs": [
    {
     "data": {
      "image/png": "[encoded data removed]",
      "text/plain": [
       "<Figure size 640x480 with 2 Axes>"
      ]
     },
     "metadata": {},
     "output_type": "display_data"
    }
   ],
   "source": [
    "# corr_df = corr_df.iloc[1:, 1:]\n",
    "mask = np.triu(np.ones_like(corr_df, dtype=bool))\n",
    "mask[np.diag_indices_from(mask)] = False\n",
    "\n",
    "rename = {\n",
    "    'Human 1': 'Annotator 1',\n",
    "    'Human 2': 'Annotator 2',\n",
    "    'Human 3': 'Annotator 3',\n",
    "    'Human ensemble': 'Annotator ensemble',\n",
    "}\n",
    "corr_df = corr_df.rename(columns=rename, index=rename)\n",
    "ax = sns.heatmap(\n",
    "    corr_df,\n",
    "    annot=True, fmt='.2f',\n",
    "    cmap=sns.color_palette(\"Blues\", as_cmap=True), cbar_kws={'label': 'Correlation'},\n",
    "    mask=mask,\n",
    ")\n",
    "\n",
    "# outline the first row of the elements in the heatmap\n",
    "color = '#fa755a'\n",
    "lw = 3\n",
    "roffset = 3.5\n",
    "coffset = 0.5\n",
    "shape = corr_df.shape\n",
    "r = 0\n",
    "# color = 'gray'\n",
    "alpha = 1\n",
    "for c in range(3, shape[1]):\n",
    "    rx = r + roffset\n",
    "    cx = c + coffset\n",
    "    if c == 2:\n",
    "        plt.plot([rx - 0.5, rx + 0.5],\n",
    "                 [cx - 0.5, cx - 0.5], color=color, lw=lw, alpha=alpha)\n",
    "    if c == shape[1] - 1:\n",
    "        plt.plot([rx - 0.5, rx + 0.5],\n",
    "                 [cx + 0.5, cx + 0.5], color=color, lw=lw, alpha=alpha)\n",
    "    plt.plot([rx - 0.5, rx - 0.5],\n",
    "             [cx - 0.5, cx + 0.5], color=color, lw=lw, alpha=alpha)\n",
    "    plt.plot([rx + 0.5, rx + 0.5],\n",
    "             [cx - 0.5, cx + 0.5], color=color, lw=lw, alpha=alpha)\n",
    "\n",
    "roffset = 0.5\n",
    "coffset = 0.5\n",
    "c = 3\n",
    "for r in range(0, 4):\n",
    "    kwargs = {\n",
    "        'color': color,\n",
    "        'lw': lw,\n",
    "        # 'linestyle': '-',\n",
    "        # 'marker': 'None',\n",
    "        # 'alpha': 0.5,\n",
    "    }\n",
    "    rx = r + roffset\n",
    "    cx = c + coffset\n",
    "    # if c == 2:\n",
    "    plt.plot([rx - 0.5, rx + 0.5],\n",
    "             [cx - 0.5, cx - 0.5], **kwargs)\n",
    "    # if c == shape[1] - 1:\n",
    "    plt.plot([rx - 0.5, rx + 0.5],\n",
    "             [cx + 0.5, cx + 0.5], **kwargs)\n",
    "    if r == 0:\n",
    "        plt.plot([rx - 0.5, rx - 0.5],\n",
    "                 [cx - 0.5, cx + 0.5], **kwargs)\n",
    "    if r == 3:\n",
    "        plt.plot([rx + 0.5, rx + 0.5],\n",
    "                 [cx - 0.5, cx + 0.5], **kwargs)\n",
    "\n",
    "# set the color of first three xticklabels and yticklabels to blue\n",
    "for i, t in enumerate(ax.get_xticklabels()):\n",
    "    if i < 4:\n",
    "        t.set_color('#08346c')\n",
    "for i, t in enumerate(ax.get_yticklabels()):\n",
    "    if i < 4:\n",
    "        t.set_color('#08346c')\n",
    "\n",
    "\n",
    "plt.xlim(-.2, shape[0])\n",
    "plt.ylim(shape[1] + 0.2, -.2)\n",
    "plt.ylabel('Annotator')\n",
    "plt.xlabel('Annotator')\n",
    "plt.savefig('../figs/sentiment_correlation.pdf', bbox_inches='tight')\n",
    "plt.savefig('../figs/sentiment_correlation.png', bbox_inches='tight', dpi=300)\n",
    "plt.show()"
   ]
  },
  {
   "cell_type": "code",
   "execution_count": 31,
   "metadata": {},
   "outputs": [
    {
     "name": "stdout",
     "output_type": "stream",
     "text": [
      "Human ensemble vs human 0.9009734538364448 0.023245471642889984\n"
     ]
    }
   ],
   "source": [
    "vals = corr_df.loc['Annotator ensemble', [\n",
    "    'Annotator 1', 'Annotator 2', 'Annotator 3']]\n",
    "print('Human ensemble vs human', vals.mean(), vals.sem(ddof=0))"
   ]
  },
  {
   "cell_type": "code",
   "execution_count": 32,
   "metadata": {},
   "outputs": [
    {
     "name": "stdout",
     "output_type": "stream",
     "text": [
      "LLM ensemble vs human ensemble corr 0.7414839183953142 err 0.06611270156604171\n"
     ]
    }
   ],
   "source": [
    "x1 = template['LLM ensemble'][notna]\n",
    "x2 = template['Human ensemble'][notna]\n",
    "\n",
    "# calculate pearson correlation and error of the corr\n",
    "corr = np.corrcoef(x1, x2)[0, 1]\n",
    "err = np.sqrt((1 - corr**2) / (len(x1) - 2))\n",
    "print('LLM ensemble vs human ensemble corr', corr, 'err', err)"
   ]
  },
  {
   "cell_type": "code",
   "execution_count": 54,
   "metadata": {},
   "outputs": [
    {
     "data": {
      "text/plain": [
       "[<matplotlib.lines.Line2D at 0x7efce3b05c90>]"
      ]
     },
     "execution_count": 54,
     "metadata": {},
     "output_type": "execute_result"
    },
    {
     "data": {
      "image/png": "[encoded data removed]",
      "text/plain": [
       "<Figure size 640x480 with 1 Axes>"
      ]
     },
     "metadata": {},
     "output_type": "display_data"
    }
   ],
   "source": [
    "# plot with some jitter\n",
    "def jitter(values, j, min=1, max=5):\n",
    "    values = values + np.random.uniform(-j, j, values.shape)\n",
    "    return np.clip(values, min, max)\n",
    "\n",
    "\n",
    "x = template['Human ensemble']\n",
    "y = template['LLM ensemble']\n",
    "plt.plot(jitter(x, 0.15), jitter(y, 0.15), 'o', alpha=0.5)\n",
    "plt.xlabel('Annotator ensemble sentiment score')\n",
    "plt.ylabel('LLM ensemble sentiment score')\n",
    "\n",
    "plt.plot([1, 5], [1, 5], 'k--')"
   ]
  }
 ],
 "metadata": {
  "kernelspec": {
   "display_name": ".venv",
   "language": "python",
   "name": "python3"
  },
  "language_info": {
   "codemirror_mode": {
    "name": "ipython",
    "version": 3
   },
   "file_extension": ".py",
   "mimetype": "text/x-python",
   "name": "python",
   "nbconvert_exporter": "python",
   "pygments_lexer": "ipython3",
   "version": "3.11.7"
  }
 },
 "nbformat": 4,
 "nbformat_minor": 2
}
