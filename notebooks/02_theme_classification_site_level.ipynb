{
 "cells": [
  {
   "cell_type": "code",
   "execution_count": null,
   "metadata": {},
   "outputs": [],
   "source": [
    "%load_ext autoreload\n",
    "%autoreload 2\n",
    "\n",
    "import pandas as pd\n",
    "import os\n",
    "import os.path\n",
    "from os.path import join\n",
    "import numpy as np\n",
    "import imodelsx\n",
    "from tqdm import tqdm\n",
    "from collections import defaultdict\n",
    "import matplotlib.pyplot as plt\n",
    "import seaborn as sns\n",
    "import data\n",
    "import joblib\n",
    "files_dict = data.load_files_dict_single_site()"
   ]
  },
  {
   "cell_type": "markdown",
   "metadata": {},
   "source": [
    "### Filter data for single-site analysis"
   ]
  },
  {
   "cell_type": "code",
   "execution_count": null,
   "metadata": {},
   "outputs": [],
   "source": [
    "site = 'Atlanta'\n",
    "# site = 'Columbus'\n",
    "# site = 'WashingtonDC'\n",
    "df = files_dict[site]\n",
    "theme_index = np.where(\n",
    "    np.array(list(map(str.lower, df.columns.values))) == 'theme')[0][0]\n",
    "col_vals = df.columns[4: theme_index]\n",
    "\n",
    "# separate into relevant pieces\n",
    "qs = df['Subcategory']\n",
    "responses_df = df[col_vals]\n",
    "themes_df = df[df.columns[theme_index:]]"
   ]
  },
  {
   "cell_type": "code",
   "execution_count": null,
   "metadata": {},
   "outputs": [],
   "source": [
    "question, responses, theme_dict = data.get_data_for_question_single_site(\n",
    "    question_num=8, qs=qs, responses_df=responses_df, themes_df=themes_df)"
   ]
  },
  {
   "cell_type": "code",
   "execution_count": null,
   "metadata": {},
   "outputs": [],
   "source": [
    "def numbered_list(classes):\n",
    "    # return '\\n'.join([f'Class {i+1}. {c}' for i, c in enumerate(classes)])\n",
    "    return '\\n'.join([f'{i+1}. {c}' for i, c in enumerate(classes)])\n",
    "\n",
    "\n",
    "classification_prompt = '''### You are given a question, response, and a numbered list of themes below.\n",
    "\n",
    "Question: {question}\n",
    "\n",
    "Response: {response}\n",
    "\n",
    "Themes:\n",
    "{classes_as_numbered_list}\n",
    "\n",
    "### Which of the themes does the response above belong to? Return the theme number.\n",
    "\n",
    "Answer:'''\n",
    "\n",
    "llm = imodelsx.llm.get_llm('gpt-4', repeat_delay=3)"
   ]
  },
  {
   "cell_type": "code",
   "execution_count": null,
   "metadata": {},
   "outputs": [],
   "source": [
    "response = responses[1]\n",
    "if len(theme_dict) > 1:\n",
    "    assert not pd.isna(response)\n",
    "    prompt = classification_prompt.format(\n",
    "        question=question,\n",
    "        classes_as_numbered_list=numbered_list(theme_dict.keys()),\n",
    "        response=response,\n",
    "    )\n",
    "    print(prompt)\n",
    "# llm(prompt)"
   ]
  },
  {
   "cell_type": "code",
   "execution_count": null,
   "metadata": {},
   "outputs": [],
   "source": [
    "# screen valid questions\n",
    "valid_question_nums = []\n",
    "for question_num in tqdm(range(len(qs)), position=0):\n",
    "\n",
    "    question, responses, theme_dict = data.get_data_for_question_single_site(\n",
    "        question_num=question_num, qs=qs, responses_df=responses_df, themes_df=themes_df)\n",
    "\n",
    "    # print(theme_dict)\n",
    "    # valid only if there are multiple themes\n",
    "    if len(theme_dict) > 1:\n",
    "\n",
    "        # valid only if the number of theme values == number of non-null responses\n",
    "        if sum(theme_dict.values()) == sum(responses.notna()):\n",
    "            valid_question_nums.append(question_num)\n",
    "        # assert sum(theme_dict.values()) == sum(responses.notna(\n",
    "        # )), f'{sum(theme_dict.values())} != {sum(responses.notna())}, theme_dict: {theme_dict}, responses: {responses}\\nquestion {question_num}: {question}'\n",
    "print('num valid qs', len(valid_question_nums))"
   ]
  },
  {
   "cell_type": "markdown",
   "metadata": {},
   "source": [
    "### Run classification"
   ]
  },
  {
   "cell_type": "code",
   "execution_count": null,
   "metadata": {},
   "outputs": [],
   "source": [
    "classifications = defaultdict(list)\n",
    "for question_num in tqdm(valid_question_nums, position=0):\n",
    "\n",
    "    question, responses, theme_dict = data.get_data_for_question_single_site(\n",
    "        question_num=question_num, qs=qs, responses_df=responses_df, themes_df=themes_df)\n",
    "\n",
    "    for response_num in tqdm(range(len(responses)), position=1):\n",
    "        response = responses.values[response_num]\n",
    "\n",
    "        if not pd.isna(response):\n",
    "            prompt = classification_prompt.format(\n",
    "                question=question,\n",
    "                classes_as_numbered_list=numbered_list(theme_dict.keys()),\n",
    "                response=response,\n",
    "            )\n",
    "            ans = llm(prompt)\n",
    "            classifications[question_num].append(ans)"
   ]
  },
  {
   "cell_type": "markdown",
   "metadata": {},
   "source": [
    "### Compare acc"
   ]
  },
  {
   "cell_type": "code",
   "execution_count": 45,
   "metadata": {},
   "outputs": [
    {
     "data": {
      "text/plain": [
       "['/home/chansingh/pedidose-efic-analysis/processed/classification_confusion_matrix_Atlanta.jl']"
      ]
     },
     "execution_count": 45,
     "metadata": {},
     "output_type": "execute_result"
    }
   ],
   "source": [
    "def process_classifications(x):\n",
    "    # note, only works with <10 classes\n",
    "    for i in range(1, 10):\n",
    "        if x.startswith(str(i)):\n",
    "            return i\n",
    "    else:\n",
    "        return 1\n",
    "\n",
    "\n",
    "diffs = []\n",
    "class_count_pred = []\n",
    "class_count_gt = []\n",
    "for question_num in valid_question_nums:\n",
    "    question, responses, theme_dict = data.get_data_for_question_single_site(\n",
    "        question_num=question_num, qs=qs, responses_df=responses_df, themes_df=themes_df)\n",
    "\n",
    "    answer_counts = theme_dict.values()\n",
    "    class_counts = pd.Series(classifications[question_num]).apply(\n",
    "        process_classifications).value_counts()\n",
    "\n",
    "    # convert value_counts to dict\n",
    "    answer_counts_dict = {i + 1: round(v)\n",
    "                          for i, v in enumerate(theme_dict.values())}\n",
    "    class_counts_dict = {k: round(v) for k, v in class_counts.items()}\n",
    "    for i in answer_counts_dict.keys():\n",
    "        if i not in class_counts_dict:\n",
    "            class_counts_dict[i] = 0\n",
    "\n",
    "    # print(answer_counts_dict)\n",
    "    # print(class_counts_dict)\n",
    "    # print()\n",
    "\n",
    "    class_count_pred += list(class_counts_dict.values())\n",
    "    class_count_gt += list(answer_counts_dict.values())\n",
    "\n",
    "    diffs.append(np.sum(np.abs(np.array(list(answer_counts_dict.values())) -\n",
    "                               np.array(list(class_counts_dict.values())))))\n",
    "\n",
    "n = max(class_count_gt + class_count_pred)\n",
    "mat = np.zeros((n, n))\n",
    "for i, j in zip(class_count_pred, class_count_gt):\n",
    "    mat[i - 1, j - 1] += 1\n",
    "joblib.dump(mat, join(data.PROCESSED_DIR,\n",
    "            f'classification_confusion_matrix_{site}.pkl'))"
   ]
  },
  {
   "cell_type": "code",
   "execution_count": 43,
   "metadata": {},
   "outputs": [
    {
     "data": {
      "image/png": "[encoded data removed]",
      "text/plain": [
       "<Figure size 640x480 with 2 Axes>"
      ]
     },
     "metadata": {},
     "output_type": "display_data"
    }
   ],
   "source": [
    "# differences\n",
    "# plt.hist(diffs)\n",
    "\n",
    "# Counts as scatter plot\n",
    "# plt.plot(class_count_gt, class_count_pred, 'o', alpha=0.05)\n",
    "# plt.xlabel('Ground Truth Class Count')\n",
    "# plt.ylabel('Predicted Class Count')\n",
    "\n",
    "\n",
    "sns.heatmap(mat, annot=True, fmt='g', vmax=5, cmap='Blues')\n",
    "plt.ylabel('Predicted class count')\n",
    "plt.xlabel('Ground truth class count')\n",
    "\n",
    "plt.savefig('../figs/classification_heatmap.pdf', bbox_inches='tight')\n",
    "plt.show()"
   ]
  },
  {
   "cell_type": "code",
   "execution_count": null,
   "metadata": {},
   "outputs": [],
   "source": []
  }
 ],
 "metadata": {
  "kernelspec": {
   "display_name": ".venv",
   "language": "python",
   "name": "python3"
  },
  "language_info": {
   "codemirror_mode": {
    "name": "ipython",
    "version": 3
   },
   "file_extension": ".py",
   "mimetype": "text/x-python",
   "name": "python",
   "nbconvert_exporter": "python",
   "pygments_lexer": "ipython3",
   "version": "3.11.7"
  }
 },
 "nbformat": 4,
 "nbformat_minor": 2
}
